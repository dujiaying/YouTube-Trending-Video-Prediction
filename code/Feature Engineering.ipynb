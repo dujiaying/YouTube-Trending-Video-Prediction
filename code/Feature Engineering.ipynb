{
 "cells": [
  {
   "cell_type": "markdown",
   "metadata": {
    "colab_type": "text",
    "id": "nGqxNefICo1l"
   },
   "source": [
    "# Feature Engineering"
   ]
  },
  {
   "cell_type": "code",
   "execution_count": 2,
   "metadata": {
    "colab": {
     "base_uri": "https://localhost:8080/",
     "height": 187
    },
    "colab_type": "code",
    "executionInfo": {
     "elapsed": 478,
     "status": "ok",
     "timestamp": 1583978913051,
     "user": {
      "displayName": "Xinyuan Gao",
      "photoUrl": "",
      "userId": "06021905912057186784"
     },
     "user_tz": 300
    },
    "id": "6Qek2FULCyEb",
    "outputId": "989c8d1d-06e1-4b8d-f36d-14b8c71ccd34"
   },
   "outputs": [
    {
     "name": "stdout",
     "output_type": "stream",
     "text": [
      "[nltk_data] Downloading package stopwords to /root/nltk_data...\n",
      "[nltk_data]   Package stopwords is already up-to-date!\n",
      "[nltk_data] Downloading package punkt to /root/nltk_data...\n",
      "[nltk_data]   Package punkt is already up-to-date!\n",
      "[nltk_data] Downloading package wordnet to /root/nltk_data...\n",
      "[nltk_data]   Package wordnet is already up-to-date!\n",
      "[nltk_data] Downloading package averaged_perceptron_tagger to\n",
      "[nltk_data]     /root/nltk_data...\n",
      "[nltk_data]   Package averaged_perceptron_tagger is already up-to-\n",
      "[nltk_data]       date!\n"
     ]
    }
   ],
   "source": [
    "# load the packages\n",
    "import json  \n",
    "import re\n",
    "from collections import Counter\n",
    "import time\n",
    "import numpy as np\n",
    "import pandas as pd\n",
    "from pandas.io.json import json_normalize  \n",
    "from scipy import stats\n",
    "import matplotlib.pyplot as plt\n",
    "import seaborn as sns\n",
    "sns.set()\n",
    "\n",
    "from textblob import TextBlob\n",
    "from nltk.corpus import stopwords\n",
    "import nltk\n",
    "nltk.download('stopwords')\n",
    "nltk.download('punkt')\n",
    "nltk.download('wordnet')\n",
    "nltk.download('averaged_perceptron_tagger')\n",
    "stop_words = set(stopwords.words('english'))\n",
    "from nltk.tokenize import sent_tokenize, word_tokenize\n",
    "from nltk.stem import PorterStemmer\n",
    "from nltk.stem import WordNetLemmatizer\n",
    "from nltk.sentiment import SentimentIntensityAnalyzer\n",
    "from nltk.tokenize import RegexpTokenizer\n",
    "\n",
    "from sklearn.model_selection import train_test_split\n",
    "from sklearn.model_selection import cross_val_score\n",
    "from sklearn.model_selection import RandomizedSearchCV\n",
    "from sklearn.impute import SimpleImputer\n",
    "from sklearn.preprocessing import StandardScaler\n",
    "from sklearn.decomposition import PCA\n",
    "from sklearn.pipeline import Pipeline\n",
    "from sklearn.linear_model import LinearRegression\n",
    "from sklearn.linear_model import Lasso\n",
    "from sklearn.linear_model import Ridge\n",
    "from sklearn.linear_model import ElasticNet\n",
    "from sklearn.linear_model import SGDRegressor\n",
    "from sklearn.tree import DecisionTreeRegressor\n",
    "from sklearn.ensemble import RandomForestRegressor\n",
    "from sklearn.ensemble import GradientBoostingRegressor\n",
    "\n",
    "from sklearn.metrics import mean_squared_error as MSE\n",
    "\n",
    "%matplotlib inline\n",
    "import warnings\n",
    "warnings.filterwarnings('ignore')\n",
    "\n",
    "SEED = 42"
   ]
  },
  {
   "cell_type": "code",
   "execution_count": 4,
   "metadata": {
    "colab": {
     "base_uri": "https://localhost:8080/",
     "height": 122
    },
    "colab_type": "code",
    "executionInfo": {
     "elapsed": 15487,
     "status": "ok",
     "timestamp": 1583978948195,
     "user": {
      "displayName": "Xinyuan Gao",
      "photoUrl": "",
      "userId": "06021905912057186784"
     },
     "user_tz": 300
    },
    "id": "UM1qI2TT9zpG",
    "outputId": "d1659959-c619-4b7b-fe54-06a088217389"
   },
   "outputs": [
    {
     "name": "stdout",
     "output_type": "stream",
     "text": [
      "Go to this URL in a browser: https://accounts.google.com/o/oauth2/auth?client_id=947318989803-6bn6qk8qdgf4n4g3pfee6491hc0brc4i.apps.googleusercontent.com&redirect_uri=urn%3aietf%3awg%3aoauth%3a2.0%3aoob&response_type=code&scope=email%20https%3a%2f%2fwww.googleapis.com%2fauth%2fdocs.test%20https%3a%2f%2fwww.googleapis.com%2fauth%2fdrive%20https%3a%2f%2fwww.googleapis.com%2fauth%2fdrive.photos.readonly%20https%3a%2f%2fwww.googleapis.com%2fauth%2fpeopleapi.readonly\n",
      "\n",
      "Enter your authorization code:\n",
      "··········\n",
      "Mounted at /content/drive\n"
     ]
    }
   ],
   "source": [
    "from google.colab import drive\n",
    "drive.mount('/content/drive')"
   ]
  },
  {
   "cell_type": "code",
   "execution_count": 0,
   "metadata": {
    "colab": {},
    "colab_type": "code",
    "id": "elTwJ3_2CEXH"
   },
   "outputs": [],
   "source": [
    "# Load datasets \n",
    "ca_path = '/content/drive/My Drive/Data Mining Project/data/CAvideos.csv'\n",
    "ca = pd.read_csv(ca_path)\n",
    "\n",
    "gb_path = '/content/drive/My Drive/Data Mining Project/data/GBvideos.csv'\n",
    "gb = pd.read_csv(gb_path)\n",
    "\n",
    "us_path = '/content/drive/My Drive/Data Mining Project/data/USvideos.csv'\n",
    "us = pd.read_csv(us_path)\n",
    "\n",
    "ca_cat_path = '/content/drive/My Drive/Data Mining Project/data/CA_category_id.json'\n",
    "ca_cat = pd.read_json(ca_cat_path)\n",
    "\n",
    "gb_cat_path = '/content/drive/My Drive/Data Mining Project/data/GB_category_id.json'\n",
    "gb_cat = pd.read_json(gb_cat_path)\n",
    "\n",
    "us_cat_path = '/content/drive/My Drive/Data Mining Project/data/US_category_id.json'\n",
    "us_cat = pd.read_json(us_cat_path)"
   ]
  },
  {
   "cell_type": "code",
   "execution_count": 0,
   "metadata": {
    "colab": {},
    "colab_type": "code",
    "id": "7mnO3-aUCHa4"
   },
   "outputs": [],
   "source": [
    "# load the categories data\n",
    "ca_cat_id = ca_cat['items'].apply(lambda x: x['id'])\n",
    "ca_cat_name = ca_cat['items'].apply(lambda x: x['snippet']['title'])\n",
    "ca_cat = pd.DataFrame({'category_id': ca_cat_id, 'category': ca_cat_name})\n",
    "ca_cat.category_id = ca_cat.category_id.astype('int64')\n",
    "\n",
    "gb_cat_id = gb_cat['items'].apply(lambda x: x['id'])\n",
    "gb_cat_name = gb_cat['items'].apply(lambda x: x['snippet']['title'])\n",
    "gb_cat = pd.DataFrame({'category_id': gb_cat_id, 'category': gb_cat_name})\n",
    "gb_cat.category_id = gb_cat.category_id.astype('int64')\n",
    "\n",
    "us_cat_id = us_cat['items'].apply(lambda x: x['id'])\n",
    "us_cat_name = us_cat['items'].apply(lambda x: x['snippet']['title'])\n",
    "us_cat = pd.DataFrame({'category_id': us_cat_id, 'category': us_cat_name})\n",
    "us_cat.category_id = us_cat.category_id.astype('int64')"
   ]
  },
  {
   "cell_type": "code",
   "execution_count": 0,
   "metadata": {
    "colab": {},
    "colab_type": "code",
    "id": "UfL82Sm7CIdx"
   },
   "outputs": [],
   "source": [
    "# merge category names with videos\n",
    "ca = ca.merge(ca_cat, how = 'left', on = 'category_id')\n",
    "gb = gb.merge(gb_cat, how = 'left', on = 'category_id')\n",
    "us = us.merge(us_cat, how = 'left', on = 'category_id')"
   ]
  },
  {
   "cell_type": "code",
   "execution_count": 0,
   "metadata": {
    "colab": {},
    "colab_type": "code",
    "id": "EiAiGpX5EMBw"
   },
   "outputs": [],
   "source": [
    "# convert trending_date and publish_time to datetime datatype\n",
    "ca.trending_date = pd.to_datetime(ca.trending_date, format = '%y.%d.%m')\n",
    "ca.publish_time = pd.to_datetime(ca.publish_time)\n",
    "\n",
    "gb.trending_date = pd.to_datetime(gb.trending_date, format = '%y.%d.%m')\n",
    "gb.publish_time = pd.to_datetime(gb.publish_time)\n",
    "\n",
    "us.trending_date = pd.to_datetime(us.trending_date, format = '%y.%d.%m')\n",
    "us.publish_time = pd.to_datetime(us.publish_time)"
   ]
  },
  {
   "cell_type": "code",
   "execution_count": 9,
   "metadata": {
    "colab": {
     "base_uri": "https://localhost:8080/",
     "height": 359
    },
    "colab_type": "code",
    "executionInfo": {
     "elapsed": 1802,
     "status": "ok",
     "timestamp": 1583978957768,
     "user": {
      "displayName": "Xinyuan Gao",
      "photoUrl": "",
      "userId": "06021905912057186784"
     },
     "user_tz": 300
    },
    "id": "Yihu4bJ9CK7u",
    "outputId": "288c0a77-2a34-4dc7-cdbe-7139f5cd1a7f"
   },
   "outputs": [
    {
     "data": {
      "text/html": [
       "<div>\n",
       "<style scoped>\n",
       "    .dataframe tbody tr th:only-of-type {\n",
       "        vertical-align: middle;\n",
       "    }\n",
       "\n",
       "    .dataframe tbody tr th {\n",
       "        vertical-align: top;\n",
       "    }\n",
       "\n",
       "    .dataframe thead th {\n",
       "        text-align: right;\n",
       "    }\n",
       "</style>\n",
       "<table border=\"1\" class=\"dataframe\">\n",
       "  <thead>\n",
       "    <tr style=\"text-align: right;\">\n",
       "      <th></th>\n",
       "      <th>Personality</th>\n",
       "      <th>Word</th>\n",
       "    </tr>\n",
       "  </thead>\n",
       "  <tbody>\n",
       "    <tr>\n",
       "      <th>0</th>\n",
       "      <td>COMPETENCE</td>\n",
       "      <td>ABLE (1)</td>\n",
       "    </tr>\n",
       "    <tr>\n",
       "      <th>1</th>\n",
       "      <td>COMPETENCE</td>\n",
       "      <td>ABLE_BODIED (1)</td>\n",
       "    </tr>\n",
       "    <tr>\n",
       "      <th>2</th>\n",
       "      <td>COMPETENCE</td>\n",
       "      <td>ADEPT (1)</td>\n",
       "    </tr>\n",
       "    <tr>\n",
       "      <th>3</th>\n",
       "      <td>COMPETENCE</td>\n",
       "      <td>ADROIT (1)</td>\n",
       "    </tr>\n",
       "    <tr>\n",
       "      <th>4</th>\n",
       "      <td>COMPETENCE</td>\n",
       "      <td>ASSIDUOUS (1)</td>\n",
       "    </tr>\n",
       "    <tr>\n",
       "      <th>5</th>\n",
       "      <td>COMPETENCE</td>\n",
       "      <td>ASSURED (1)</td>\n",
       "    </tr>\n",
       "    <tr>\n",
       "      <th>6</th>\n",
       "      <td>COMPETENCE</td>\n",
       "      <td>ASTUTE (1)</td>\n",
       "    </tr>\n",
       "    <tr>\n",
       "      <th>7</th>\n",
       "      <td>COMPETENCE</td>\n",
       "      <td>AWARD_WINNING (1)</td>\n",
       "    </tr>\n",
       "    <tr>\n",
       "      <th>8</th>\n",
       "      <td>COMPETENCE</td>\n",
       "      <td>BLOOMING (1)</td>\n",
       "    </tr>\n",
       "    <tr>\n",
       "      <th>9</th>\n",
       "      <td>COMPETENCE</td>\n",
       "      <td>BOOMING (1)</td>\n",
       "    </tr>\n",
       "  </tbody>\n",
       "</table>\n",
       "</div>"
      ],
      "text/plain": [
       "  Personality               Word\n",
       "0  COMPETENCE           ABLE (1)\n",
       "1  COMPETENCE    ABLE_BODIED (1)\n",
       "2  COMPETENCE          ADEPT (1)\n",
       "3  COMPETENCE         ADROIT (1)\n",
       "4  COMPETENCE      ASSIDUOUS (1)\n",
       "5  COMPETENCE        ASSURED (1)\n",
       "6  COMPETENCE         ASTUTE (1)\n",
       "7  COMPETENCE  AWARD_WINNING (1)\n",
       "8  COMPETENCE       BLOOMING (1)\n",
       "9  COMPETENCE        BOOMING (1)"
      ]
     },
     "execution_count": 9,
     "metadata": {
      "tags": []
     },
     "output_type": "execute_result"
    }
   ],
   "source": [
    "# load the brand personality dictionary\n",
    "bp_path = '/content/drive/My Drive/Data Mining Project/data/Brand Personality.csv'\n",
    "bp = pd.read_csv(bp_path)\n",
    "bp.head(10)"
   ]
  },
  {
   "cell_type": "code",
   "execution_count": 0,
   "metadata": {
    "colab": {
     "base_uri": "https://localhost:8080/",
     "height": 119
    },
    "colab_type": "code",
    "executionInfo": {
     "elapsed": 3606,
     "status": "ok",
     "timestamp": 1583820361418,
     "user": {
      "displayName": "Xinyuan Gao",
      "photoUrl": "",
      "userId": "06021905912057186784"
     },
     "user_tz": 300
    },
    "id": "GwvZCFygRSSD",
    "outputId": "fa4eeaf5-469e-4cd6-9a06-a91c026fab6e"
   },
   "outputs": [
    {
     "data": {
      "text/plain": [
       "RUGGEDNESS        174\n",
       "SINCERITY         174\n",
       "SOPHISTICATION    174\n",
       "COMPETENCE        168\n",
       "EXCITEMENT        143\n",
       "Name: Personality, dtype: int64"
      ]
     },
     "execution_count": 72,
     "metadata": {
      "tags": []
     },
     "output_type": "execute_result"
    }
   ],
   "source": [
    "bp.Personality.value_counts()"
   ]
  },
  {
   "cell_type": "code",
   "execution_count": 0,
   "metadata": {
    "colab": {},
    "colab_type": "code",
    "id": "pjgavnvQRa5H"
   },
   "outputs": [],
   "source": [
    "# data cleaning for brand personality dictionary\n",
    "bp.Personality = bp.Personality.str.lower()\n",
    "bp.Word = bp.Word.apply(lambda x: x[:-4].lower())"
   ]
  },
  {
   "cell_type": "code",
   "execution_count": 0,
   "metadata": {
    "colab": {
     "base_uri": "https://localhost:8080/",
     "height": 354
    },
    "colab_type": "code",
    "executionInfo": {
     "elapsed": 4003,
     "status": "ok",
     "timestamp": 1583820361827,
     "user": {
      "displayName": "Xinyuan Gao",
      "photoUrl": "",
      "userId": "06021905912057186784"
     },
     "user_tz": 300
    },
    "id": "mAtZLXA4-J8_",
    "outputId": "d95da062-5c7f-4389-ecf5-ececdf81ee4a"
   },
   "outputs": [
    {
     "data": {
      "image/png": "[encoded data removed]",
      "text/plain": [
       "<Figure size 360x288 with 1 Axes>"
      ]
     },
     "metadata": {
      "tags": []
     },
     "output_type": "display_data"
    }
   ],
   "source": [
    "# Visualize the number of trending videos by Country\n",
    "fig, ax = plt.subplots(figsize=(5, 4))\n",
    "\n",
    "count = sns.countplot(data = bp, x = 'Personality', palette = 'RdBu')\n",
    "count.set_xticklabels(count.get_xticklabels(), rotation = 45)\n",
    "count.set_title('Types of Personality', fontsize = 15)\n",
    "plt.show()"
   ]
  },
  {
   "cell_type": "code",
   "execution_count": 0,
   "metadata": {
    "colab": {
     "base_uri": "https://localhost:8080/",
     "height": 34
    },
    "colab_type": "code",
    "executionInfo": {
     "elapsed": 4163,
     "status": "ok",
     "timestamp": 1583820361997,
     "user": {
      "displayName": "Xinyuan Gao",
      "photoUrl": "",
      "userId": "06021905912057186784"
     },
     "user_tz": 300
    },
    "id": "GyZ-P49j83AZ",
    "outputId": "805b8d0f-eedd-4f93-c8bb-00e091c007e4"
   },
   "outputs": [
    {
     "data": {
      "text/plain": [
       "(120746, 18)"
      ]
     },
     "execution_count": 75,
     "metadata": {
      "tags": []
     },
     "output_type": "execute_result"
    }
   ],
   "source": [
    "# merge all the dataframes\n",
    "ca['country'] = 'CA'\n",
    "gb['country'] = 'UK'\n",
    "us['country'] = 'US'\n",
    "\n",
    "df = ca.append(gb)\n",
    "df = df.append(us)\n",
    "df.shape"
   ]
  },
  {
   "cell_type": "code",
   "execution_count": 0,
   "metadata": {
    "colab": {
     "base_uri": "https://localhost:8080/",
     "height": 102
    },
    "colab_type": "code",
    "executionInfo": {
     "elapsed": 4155,
     "status": "ok",
     "timestamp": 1583820361998,
     "user": {
      "displayName": "Xinyuan Gao",
      "photoUrl": "",
      "userId": "06021905912057186784"
     },
     "user_tz": 300
    },
    "id": "ERo-syX883Ac",
    "outputId": "0635d4fc-6c6b-4322-e013-03c0840727d5"
   },
   "outputs": [
    {
     "data": {
      "text/plain": [
       "Index(['video_id', 'trending_date', 'title', 'channel_title', 'category_id',\n",
       "       'publish_time', 'tags', 'views', 'likes', 'dislikes', 'comment_count',\n",
       "       'thumbnail_link', 'comments_disabled', 'ratings_disabled',\n",
       "       'video_error_or_removed', 'description', 'category', 'country'],\n",
       "      dtype='object')"
      ]
     },
     "execution_count": 76,
     "metadata": {
      "tags": []
     },
     "output_type": "execute_result"
    }
   ],
   "source": [
    "df.columns"
   ]
  },
  {
   "cell_type": "code",
   "execution_count": 0,
   "metadata": {
    "colab": {
     "base_uri": "https://localhost:8080/",
     "height": 34
    },
    "colab_type": "code",
    "executionInfo": {
     "elapsed": 4354,
     "status": "ok",
     "timestamp": 1583820362207,
     "user": {
      "displayName": "Xinyuan Gao",
      "photoUrl": "",
      "userId": "06021905912057186784"
     },
     "user_tz": 300
    },
    "id": "LrCtd1j-DN8J",
    "outputId": "6d443e53-b7e9-40ed-b3cf-e335e09b06c1"
   },
   "outputs": [
    {
     "data": {
      "text/plain": [
       "(120746, 19)"
      ]
     },
     "execution_count": 77,
     "metadata": {
      "tags": []
     },
     "output_type": "execute_result"
    }
   ],
   "source": [
    "# Add views_cat column (Popular(1)/Unpopular(0))\n",
    "quantile = df.views.describe()['75%']\n",
    "views_cat = pd.DataFrame(df.views.apply(lambda x: 1 if x > quantile else 0))\n",
    "views_cat.columns = ['views_cat']\n",
    "df = pd.concat([df, views_cat], axis = 1)\n",
    "df.shape"
   ]
  },
  {
   "cell_type": "code",
   "execution_count": 0,
   "metadata": {
    "colab": {
     "base_uri": "https://localhost:8080/",
     "height": 366
    },
    "colab_type": "code",
    "executionInfo": {
     "elapsed": 4345,
     "status": "ok",
     "timestamp": 1583820362208,
     "user": {
      "displayName": "Xinyuan Gao",
      "photoUrl": "",
      "userId": "06021905912057186784"
     },
     "user_tz": 300
    },
    "id": "_mnsIoPgIiuJ",
    "outputId": "94cdb804-6a0d-4b5b-9512-17598431ea04"
   },
   "outputs": [
    {
     "data": {
      "text/html": [
       "<div>\n",
       "<style scoped>\n",
       "    .dataframe tbody tr th:only-of-type {\n",
       "        vertical-align: middle;\n",
       "    }\n",
       "\n",
       "    .dataframe tbody tr th {\n",
       "        vertical-align: top;\n",
       "    }\n",
       "\n",
       "    .dataframe thead th {\n",
       "        text-align: right;\n",
       "    }\n",
       "</style>\n",
       "<table border=\"1\" class=\"dataframe\">\n",
       "  <thead>\n",
       "    <tr style=\"text-align: right;\">\n",
       "      <th></th>\n",
       "      <th>video_id</th>\n",
       "      <th>trending_date</th>\n",
       "      <th>title</th>\n",
       "      <th>channel_title</th>\n",
       "      <th>category_id</th>\n",
       "      <th>publish_time</th>\n",
       "      <th>tags</th>\n",
       "      <th>views</th>\n",
       "      <th>likes</th>\n",
       "      <th>dislikes</th>\n",
       "      <th>comment_count</th>\n",
       "      <th>thumbnail_link</th>\n",
       "      <th>comments_disabled</th>\n",
       "      <th>ratings_disabled</th>\n",
       "      <th>video_error_or_removed</th>\n",
       "      <th>description</th>\n",
       "      <th>category</th>\n",
       "      <th>country</th>\n",
       "      <th>views_cat</th>\n",
       "    </tr>\n",
       "  </thead>\n",
       "  <tbody>\n",
       "    <tr>\n",
       "      <th>0</th>\n",
       "      <td>n1WpP7iowLc</td>\n",
       "      <td>2017-11-14</td>\n",
       "      <td>Eminem - Walk On Water (Audio) ft. Beyoncé</td>\n",
       "      <td>EminemVEVO</td>\n",
       "      <td>10</td>\n",
       "      <td>2017-11-10 17:00:03+00:00</td>\n",
       "      <td>Eminem|\"Walk\"|\"On\"|\"Water\"|\"Aftermath/Shady/In...</td>\n",
       "      <td>17158579</td>\n",
       "      <td>787425</td>\n",
       "      <td>43420</td>\n",
       "      <td>125882</td>\n",
       "      <td>https://i.ytimg.com/vi/n1WpP7iowLc/default.jpg</td>\n",
       "      <td>False</td>\n",
       "      <td>False</td>\n",
       "      <td>False</td>\n",
       "      <td>Eminem's new track Walk on Water ft. Beyoncé i...</td>\n",
       "      <td>Music</td>\n",
       "      <td>CA</td>\n",
       "      <td>1</td>\n",
       "    </tr>\n",
       "    <tr>\n",
       "      <th>1</th>\n",
       "      <td>0dBIkQ4Mz1M</td>\n",
       "      <td>2017-11-14</td>\n",
       "      <td>PLUSH - Bad Unboxing Fan Mail</td>\n",
       "      <td>iDubbbzTV</td>\n",
       "      <td>23</td>\n",
       "      <td>2017-11-13 17:00:00+00:00</td>\n",
       "      <td>plush|\"bad unboxing\"|\"unboxing\"|\"fan mail\"|\"id...</td>\n",
       "      <td>1014651</td>\n",
       "      <td>127794</td>\n",
       "      <td>1688</td>\n",
       "      <td>13030</td>\n",
       "      <td>https://i.ytimg.com/vi/0dBIkQ4Mz1M/default.jpg</td>\n",
       "      <td>False</td>\n",
       "      <td>False</td>\n",
       "      <td>False</td>\n",
       "      <td>STill got a lot of packages. Probably will las...</td>\n",
       "      <td>Comedy</td>\n",
       "      <td>CA</td>\n",
       "      <td>0</td>\n",
       "    </tr>\n",
       "    <tr>\n",
       "      <th>2</th>\n",
       "      <td>5qpjK5DgCt4</td>\n",
       "      <td>2017-11-14</td>\n",
       "      <td>Racist Superman | Rudy Mancuso, King Bach &amp; Le...</td>\n",
       "      <td>Rudy Mancuso</td>\n",
       "      <td>23</td>\n",
       "      <td>2017-11-12 19:05:24+00:00</td>\n",
       "      <td>racist superman|\"rudy\"|\"mancuso\"|\"king\"|\"bach\"...</td>\n",
       "      <td>3191434</td>\n",
       "      <td>146035</td>\n",
       "      <td>5339</td>\n",
       "      <td>8181</td>\n",
       "      <td>https://i.ytimg.com/vi/5qpjK5DgCt4/default.jpg</td>\n",
       "      <td>False</td>\n",
       "      <td>False</td>\n",
       "      <td>False</td>\n",
       "      <td>WATCH MY PREVIOUS VIDEO ▶ \\n\\nSUBSCRIBE ► http...</td>\n",
       "      <td>Comedy</td>\n",
       "      <td>CA</td>\n",
       "      <td>1</td>\n",
       "    </tr>\n",
       "  </tbody>\n",
       "</table>\n",
       "</div>"
      ],
      "text/plain": [
       "      video_id trending_date  ... country views_cat\n",
       "0  n1WpP7iowLc    2017-11-14  ...      CA         1\n",
       "1  0dBIkQ4Mz1M    2017-11-14  ...      CA         0\n",
       "2  5qpjK5DgCt4    2017-11-14  ...      CA         1\n",
       "\n",
       "[3 rows x 19 columns]"
      ]
     },
     "execution_count": 78,
     "metadata": {
      "tags": []
     },
     "output_type": "execute_result"
    }
   ],
   "source": [
    "df.head(3)"
   ]
  },
  {
   "cell_type": "markdown",
   "metadata": {
    "colab_type": "text",
    "id": "RFGMFgiS83Af"
   },
   "source": [
    "## Publish Time"
   ]
  },
  {
   "cell_type": "code",
   "execution_count": 0,
   "metadata": {
    "colab": {},
    "colab_type": "code",
    "id": "-uM144ai83Ag"
   },
   "outputs": [],
   "source": [
    "# Add day_of_Week\n",
    "df['publish_time'] = pd.to_datetime(df['publish_time'])\n",
    "df['publish_day_of_Week'] = df['publish_time'].apply(lambda time: time.dayofweek)\n",
    "\n",
    "week_map = {0: 'Monday', 1: 'Tuesday', 2: 'Wednesday', 3: 'Thursday', 4: 'Friday', 5: 'Saturday', 6: 'Sunday'}\n",
    "df['publish_day_of_Week'] = df['publish_day_of_Week'].map(week_map)"
   ]
  },
  {
   "cell_type": "code",
   "execution_count": 0,
   "metadata": {
    "colab": {},
    "colab_type": "code",
    "id": "ZPGFQ11o5GmD"
   },
   "outputs": [],
   "source": [
    "# get dummies\n",
    "week_day = pd.get_dummies(df.publish_day_of_Week)\n",
    "df = pd.concat([df, week_day], axis = 1)"
   ]
  },
  {
   "cell_type": "code",
   "execution_count": 0,
   "metadata": {
    "colab": {},
    "colab_type": "code",
    "id": "l3shErUy83Ai"
   },
   "outputs": [],
   "source": [
    "# separates date, hour and time into three columns from 'publish_time' column\n",
    "df['publish_date'] = pd.to_datetime(df.publish_time.dt.date)\n",
    "df['publish_hour'] = df.publish_time.dt.hour\n",
    "df['publish_time'] = df.publish_time.dt.time"
   ]
  },
  {
   "cell_type": "code",
   "execution_count": 0,
   "metadata": {
    "colab": {},
    "colab_type": "code",
    "id": "Ovruy2bT83Aq"
   },
   "outputs": [],
   "source": [
    "# create feature to calculate the number of days between publish date and trending date\n",
    "df['days_to_trending'] = (df.trending_date - df.publish_date).dt.days"
   ]
  },
  {
   "cell_type": "markdown",
   "metadata": {
    "colab_type": "text",
    "id": "cIoEg6SY83At"
   },
   "source": [
    "## Video Title"
   ]
  },
  {
   "cell_type": "code",
   "execution_count": 0,
   "metadata": {
    "colab": {},
    "colab_type": "code",
    "id": "OCuLnspY83Au"
   },
   "outputs": [],
   "source": [
    "# title character count\n",
    "df['title_char_length'] = df.title.apply(lambda x: len(x))"
   ]
  },
  {
   "cell_type": "code",
   "execution_count": 0,
   "metadata": {
    "colab": {},
    "colab_type": "code",
    "id": "8m4fE20H6Cl2"
   },
   "outputs": [],
   "source": [
    "# title word count\n",
    "df['title_word_count'] = df.title.apply(lambda x: len(x.split()))"
   ]
  },
  {
   "cell_type": "code",
   "execution_count": 0,
   "metadata": {
    "colab": {},
    "colab_type": "code",
    "id": "NfWsgF6I83A0"
   },
   "outputs": [],
   "source": [
    "# contain all capitalized words\n",
    "def all_cap(x):\n",
    "    for word in x.split():\n",
    "        if word.isupper():\n",
    "            return 1\n",
    "    return 0\n",
    "\n",
    "df['title_allcap'] = df.title.apply(all_cap)"
   ]
  },
  {
   "cell_type": "code",
   "execution_count": 0,
   "metadata": {
    "colab": {},
    "colab_type": "code",
    "id": "uzEZnd9f83A4"
   },
   "outputs": [],
   "source": [
    "# contain question\n",
    "df['title_question'] = df.title.apply(lambda x: 1 if '?' in x else 0)"
   ]
  },
  {
   "cell_type": "markdown",
   "metadata": {
    "colab_type": "text",
    "id": "CYpjxQfZIqNm"
   },
   "source": [
    "## Video Tag"
   ]
  },
  {
   "cell_type": "code",
   "execution_count": 0,
   "metadata": {
    "colab": {},
    "colab_type": "code",
    "id": "gH0lVeYCIsku"
   },
   "outputs": [],
   "source": [
    "df['tag_nums'] = df.tags.apply(lambda x: len(x.split('|')))"
   ]
  },
  {
   "cell_type": "markdown",
   "metadata": {
    "colab_type": "text",
    "id": "g9EUT4mVI4Bn"
   },
   "source": [
    "## Description"
   ]
  },
  {
   "cell_type": "code",
   "execution_count": 0,
   "metadata": {
    "colab": {
     "base_uri": "https://localhost:8080/",
     "height": 119
    },
    "colab_type": "code",
    "executionInfo": {
     "elapsed": 5298,
     "status": "ok",
     "timestamp": 1583820363194,
     "user": {
      "displayName": "Xinyuan Gao",
      "photoUrl": "",
      "userId": "06021905912057186784"
     },
     "user_tz": 300
    },
    "id": "o79qLayBIzcr",
    "outputId": "0a42be2a-7588-40ed-fa99-54fddcf22856"
   },
   "outputs": [
    {
     "data": {
      "text/plain": [
       "0    Eminem's new track Walk on Water ft. Beyoncé i...\n",
       "1    STill got a lot of packages. Probably will las...\n",
       "2    WATCH MY PREVIOUS VIDEO ▶ \\n\\nSUBSCRIBE ► http...\n",
       "3    I know it's been a while since we did this sho...\n",
       "4    🎧: https://ad.gt/yt-perfect\\n💰: https://atlant...\n",
       "Name: description, dtype: object"
      ]
     },
     "execution_count": 88,
     "metadata": {
      "tags": []
     },
     "output_type": "execute_result"
    }
   ],
   "source": [
    "df.description.head()"
   ]
  },
  {
   "cell_type": "code",
   "execution_count": 0,
   "metadata": {
    "colab": {},
    "colab_type": "code",
    "id": "_aeoUpVKI_KK"
   },
   "outputs": [],
   "source": [
    "# create features\n",
    "df['desc_url'] = df.description.str.contains('http\\S+').fillna(0).astype(int)\n",
    "df['desc_emoji'] = df.description.str.contains('\\d+(.*?)[\\u263a-\\U0001f645]').fillna(0).astype(int)\n",
    "df['desc_number'] = df.description.str.contains('\\d+').fillna(0).astype(int)\n",
    "df['desc_char_length'] = df.description.apply(lambda x: len(x) if type(x) != float else x)\n",
    "df['desc_word_count'] = df.description.apply(lambda x: len(x.split()) if type(x) != float else x)"
   ]
  },
  {
   "cell_type": "code",
   "execution_count": 0,
   "metadata": {
    "colab": {},
    "colab_type": "code",
    "id": "FgnOHEPoLWNv"
   },
   "outputs": [],
   "source": [
    "# remove backslash + 1 character\n",
    "df['desc'] = df.description.str.replace('\\\\\\\\.', '', flags=re.MULTILINE)\n",
    "\n",
    "# remove urls\n",
    "df.desc = df.desc.str.replace('http\\S+', '', flags=re.MULTILINE)\n",
    "\n",
    "# remove punctuations and emojis\n",
    "df.desc = df.desc.str.replace('[^\\w\\s]', '', flags=re.UNICODE)\n",
    "\n",
    "# remove numbers\n",
    "df.desc = df.desc.str.replace('\\d+', '')\n",
    "\n",
    "# convert to lower case\n",
    "df.desc = df.desc.str.lower()\n",
    "\n",
    "# remove leading and ending spaces\n",
    "df.desc = df.desc.str.strip()"
   ]
  },
  {
   "cell_type": "code",
   "execution_count": 0,
   "metadata": {
    "colab": {},
    "colab_type": "code",
    "id": "vAWXOUC7KP0O"
   },
   "outputs": [],
   "source": [
    "# tokenization\n",
    "df['tokenize'] = df.desc.apply(lambda x: [i for i in word_tokenize(x) if not i in stop_words] if type(x) != float else x)"
   ]
  },
  {
   "cell_type": "code",
   "execution_count": 0,
   "metadata": {
    "colab": {
     "base_uri": "https://localhost:8080/",
     "height": 119
    },
    "colab_type": "code",
    "executionInfo": {
     "elapsed": 160464,
     "status": "ok",
     "timestamp": 1583820518378,
     "user": {
      "displayName": "Xinyuan Gao",
      "photoUrl": "",
      "userId": "06021905912057186784"
     },
     "user_tz": 300
    },
    "id": "5nWkhyrA4qln",
    "outputId": "7a100144-05c1-4cd9-81d6-ac64a7244524"
   },
   "outputs": [
    {
     "data": {
      "text/plain": [
       "0    [eminems, new, track, walk, water, ft, beyoncé...\n",
       "1    [still, got, lot, packages, probably, last, an...\n",
       "2    [watch, previous, video, subscribe, watching, ...\n",
       "3    [know, since, show, back, might, best, episode...\n",
       "4    [eds, channel, ed, onfacebook, website, jason,...\n",
       "Name: tokenize, dtype: object"
      ]
     },
     "execution_count": 92,
     "metadata": {
      "tags": []
     },
     "output_type": "execute_result"
    }
   ],
   "source": [
    "df.tokenize.head(5)"
   ]
  },
  {
   "cell_type": "code",
   "execution_count": 0,
   "metadata": {
    "colab": {},
    "colab_type": "code",
    "id": "ErFJLXr7KTZ3"
   },
   "outputs": [],
   "source": [
    "# stemming\n",
    "stemmer = PorterStemmer()\n",
    "df['stemming'] = df.tokenize.apply(lambda x: [stemmer.stem(word) for word in x] if type(x) != float else x)"
   ]
  },
  {
   "cell_type": "code",
   "execution_count": 0,
   "metadata": {
    "colab": {
     "base_uri": "https://localhost:8080/",
     "height": 119
    },
    "colab_type": "code",
    "executionInfo": {
     "elapsed": 305894,
     "status": "ok",
     "timestamp": 1583820663820,
     "user": {
      "displayName": "Xinyuan Gao",
      "photoUrl": "",
      "userId": "06021905912057186784"
     },
     "user_tz": 300
    },
    "id": "56s4cOuW4x5p",
    "outputId": "8433be46-f39c-44f7-cde4-895fab59c4d3"
   },
   "outputs": [
    {
     "data": {
      "text/plain": [
       "0    [eminem, new, track, walk, water, ft, beyoncé,...\n",
       "1    [still, got, lot, packag, probabl, last, anoth...\n",
       "2    [watch, previou, video, subscrib, watch, like,...\n",
       "3    [know, sinc, show, back, might, best, episod, ...\n",
       "4    [ed, channel, ed, onfacebook, websit, jason, k...\n",
       "Name: stemming, dtype: object"
      ]
     },
     "execution_count": 94,
     "metadata": {
      "tags": []
     },
     "output_type": "execute_result"
    }
   ],
   "source": [
    "df.stemming.head(5)"
   ]
  },
  {
   "cell_type": "code",
   "execution_count": 0,
   "metadata": {
    "colab": {},
    "colab_type": "code",
    "id": "xDATfuUMKVMy"
   },
   "outputs": [],
   "source": [
    "# lemmatization\n",
    "lemmatizer = WordNetLemmatizer()\n",
    "df['lemmatized'] = df.stemming.apply(lambda x: [lemmatizer.lemmatize(word) for word in x] if type(x) != float else x)"
   ]
  },
  {
   "cell_type": "code",
   "execution_count": 0,
   "metadata": {
    "colab": {
     "base_uri": "https://localhost:8080/",
     "height": 221
    },
    "colab_type": "code",
    "executionInfo": {
     "elapsed": 334527,
     "status": "ok",
     "timestamp": 1583820692464,
     "user": {
      "displayName": "Xinyuan Gao",
      "photoUrl": "",
      "userId": "06021905912057186784"
     },
     "user_tz": 300
    },
    "id": "POz6Gw9kKVRJ",
    "outputId": "b8fb0f76-f052-4624-a8c9-6fab9e62c08e"
   },
   "outputs": [
    {
     "data": {
      "text/plain": [
       "0     [eminem, new, track, walk, water, ft, beyoncé,...\n",
       "1     [still, got, lot, packag, probabl, last, anoth...\n",
       "2     [watch, previou, video, subscrib, watch, like,...\n",
       "3     [know, sinc, show, back, might, best, episod, ...\n",
       "4     [ed, channel, ed, onfacebook, websit, jason, k...\n",
       "                            ...                        \n",
       "95    [关注微信公众号最新独家内容抢先看江苏卫视官方微信jsbcjstv非诚勿扰官方微信jstvf...\n",
       "96    [negan, father, gabriel, remain, trap, togeth,...\n",
       "97    [中天的夢想驛站更多影音, 文茜的世界周報週六, 中天的夢想驛站週日, 文茜的世界周報週日,...\n",
       "98                                                  NaN\n",
       "99    [le, jeu, de, société, le, jeu, signé, par, to...\n",
       "Name: lemmatized, Length: 100, dtype: object"
      ]
     },
     "execution_count": 96,
     "metadata": {
      "tags": []
     },
     "output_type": "execute_result"
    }
   ],
   "source": [
    "df.lemmatized.head(100)"
   ]
  },
  {
   "cell_type": "code",
   "execution_count": 0,
   "metadata": {
    "colab": {},
    "colab_type": "code",
    "id": "A1p2I7eJKVZT"
   },
   "outputs": [],
   "source": [
    "# stemming and lemmatizing bp_dict\n",
    "stemmer = PorterStemmer()\n",
    "bp['stem'] = bp.Word.apply(lambda x: stemmer.stem(x))\n",
    "lemmatizer = WordNetLemmatizer()\n",
    "bp['lemm'] = bp.stem.apply(lambda x: lemmatizer.lemmatize(x))"
   ]
  },
  {
   "cell_type": "code",
   "execution_count": 0,
   "metadata": {
    "colab": {},
    "colab_type": "code",
    "id": "OqVwXoT-Kdfz"
   },
   "outputs": [],
   "source": [
    "# transform to a dictionary\n",
    "bp_dict = dict(zip(bp.lemm, bp.Personality))"
   ]
  },
  {
   "cell_type": "code",
   "execution_count": 0,
   "metadata": {
    "colab": {},
    "colab_type": "code",
    "id": "iikKhEnlKdiH"
   },
   "outputs": [],
   "source": [
    "# define dict_lookup function\n",
    "def dict_lookup(x):\n",
    "  if type(x) != float:\n",
    "    res = []\n",
    "    for k, v in bp_dict.items():\n",
    "      if k in x:\n",
    "        res.append(v)\n",
    "    return set(res)\n",
    "  else:\n",
    "    return set()"
   ]
  },
  {
   "cell_type": "code",
   "execution_count": 0,
   "metadata": {
    "colab": {},
    "colab_type": "code",
    "id": "QE2bdxaVKdkZ"
   },
   "outputs": [],
   "source": [
    "df['bp'] = df.lemmatized.apply(lambda x: dict_lookup(x))"
   ]
  },
  {
   "cell_type": "code",
   "execution_count": 0,
   "metadata": {
    "colab": {
     "base_uri": "https://localhost:8080/",
     "height": 119
    },
    "colab_type": "code",
    "executionInfo": {
     "elapsed": 408876,
     "status": "ok",
     "timestamp": 1583820766831,
     "user": {
      "displayName": "Xinyuan Gao",
      "photoUrl": "",
      "userId": "06021905912057186784"
     },
     "user_tz": 300
    },
    "id": "9DaJf_eBKdnA",
    "outputId": "c04ea732-b44f-45d6-d1dc-a62960323816"
   },
   "outputs": [
    {
     "data": {
      "text/plain": [
       "0                           {excitement}\n",
       "1                           {competence}\n",
       "2                                     {}\n",
       "3    {competence, excitement, sincerity}\n",
       "4                           {excitement}\n",
       "Name: bp, dtype: object"
      ]
     },
     "execution_count": 101,
     "metadata": {
      "tags": []
     },
     "output_type": "execute_result"
    }
   ],
   "source": [
    "df.bp.head()"
   ]
  },
  {
   "cell_type": "code",
   "execution_count": 0,
   "metadata": {
    "colab": {},
    "colab_type": "code",
    "id": "SuUadmcsKdpR"
   },
   "outputs": [],
   "source": [
    "# get dummies\n",
    "df['competence'] = df.bp.apply(lambda x: 1 if 'competence' in x else 0)\n",
    "df['excitement'] = df.bp.apply(lambda x: 1 if 'excitement' in x else 0)\n",
    "df['ruggedness'] = df.bp.apply(lambda x: 1 if 'ruggedness' in x else 0)\n",
    "df['sincerity'] = df.bp.apply(lambda x: 1 if 'sincerity' in x else 0)\n",
    "df['sophistication'] = df.bp.apply(lambda x: 1 if 'sophistication' in x else 0)"
   ]
  },
  {
   "cell_type": "code",
   "execution_count": 0,
   "metadata": {
    "colab": {
     "base_uri": "https://localhost:8080/",
     "height": 173
    },
    "colab_type": "code",
    "executionInfo": {
     "elapsed": 409357,
     "status": "ok",
     "timestamp": 1583820767322,
     "user": {
      "displayName": "Xinyuan Gao",
      "photoUrl": "",
      "userId": "06021905912057186784"
     },
     "user_tz": 300
    },
    "id": "JX_kGugFKkme",
    "outputId": "30c13262-324e-45f9-9329-194505e979d5"
   },
   "outputs": [
    {
     "data": {
      "text/html": [
       "<div>\n",
       "<style scoped>\n",
       "    .dataframe tbody tr th:only-of-type {\n",
       "        vertical-align: middle;\n",
       "    }\n",
       "\n",
       "    .dataframe tbody tr th {\n",
       "        vertical-align: top;\n",
       "    }\n",
       "\n",
       "    .dataframe thead th {\n",
       "        text-align: right;\n",
       "    }\n",
       "</style>\n",
       "<table border=\"1\" class=\"dataframe\">\n",
       "  <thead>\n",
       "    <tr style=\"text-align: right;\">\n",
       "      <th></th>\n",
       "      <th>competence</th>\n",
       "      <th>excitement</th>\n",
       "      <th>ruggedness</th>\n",
       "      <th>sincerity</th>\n",
       "      <th>sophistication</th>\n",
       "    </tr>\n",
       "    <tr>\n",
       "      <th>country</th>\n",
       "      <th></th>\n",
       "      <th></th>\n",
       "      <th></th>\n",
       "      <th></th>\n",
       "      <th></th>\n",
       "    </tr>\n",
       "  </thead>\n",
       "  <tbody>\n",
       "    <tr>\n",
       "      <th>CA</th>\n",
       "      <td>13291</td>\n",
       "      <td>17558</td>\n",
       "      <td>9075</td>\n",
       "      <td>17005</td>\n",
       "      <td>10541</td>\n",
       "    </tr>\n",
       "    <tr>\n",
       "      <th>UK</th>\n",
       "      <td>11758</td>\n",
       "      <td>16962</td>\n",
       "      <td>7182</td>\n",
       "      <td>15009</td>\n",
       "      <td>11527</td>\n",
       "    </tr>\n",
       "    <tr>\n",
       "      <th>US</th>\n",
       "      <td>15525</td>\n",
       "      <td>21270</td>\n",
       "      <td>10658</td>\n",
       "      <td>18794</td>\n",
       "      <td>13935</td>\n",
       "    </tr>\n",
       "  </tbody>\n",
       "</table>\n",
       "</div>"
      ],
      "text/plain": [
       "         competence  excitement  ruggedness  sincerity  sophistication\n",
       "country                                                               \n",
       "CA            13291       17558        9075      17005           10541\n",
       "UK            11758       16962        7182      15009           11527\n",
       "US            15525       21270       10658      18794           13935"
      ]
     },
     "execution_count": 103,
     "metadata": {
      "tags": []
     },
     "output_type": "execute_result"
    }
   ],
   "source": [
    "bp_country = df.groupby('country')['competence', 'excitement', 'ruggedness', 'sincerity', 'sophistication'].sum()\n",
    "bp_country"
   ]
  },
  {
   "cell_type": "markdown",
   "metadata": {
    "colab_type": "text",
    "id": "le656H8ULlab"
   },
   "source": [
    "## Add Ratio"
   ]
  },
  {
   "cell_type": "code",
   "execution_count": 0,
   "metadata": {
    "colab": {},
    "colab_type": "code",
    "id": "WexVM5cmLts2"
   },
   "outputs": [],
   "source": [
    "# Like-Dislike Ratio \n",
    "df['like_dislike_ratio'] = df['likes'] / df['dislikes']\n",
    "\n",
    "# Like-View Ratio\n",
    "df['like_view_ratio'] = df['likes'] / df['views']\n",
    "\n",
    "# Dislike-View Ratio\n",
    "df['dislike_view_ratio'] = df['dislikes'] / df['views']\n",
    "\n",
    "# Comment-View Ratio\n",
    "df['comment_view_ratio'] = df['comment_count'] / df['views']"
   ]
  },
  {
   "cell_type": "markdown",
   "metadata": {
    "colab_type": "text",
    "id": "j28a8ISVL7aH"
   },
   "source": [
    "## Sentiment Analysis on Video Tags"
   ]
  },
  {
   "cell_type": "code",
   "execution_count": 0,
   "metadata": {
    "colab": {},
    "colab_type": "code",
    "id": "9j0sTLxdMDVp"
   },
   "outputs": [],
   "source": [
    "# def nltk_sentiment(text):\n",
    "#     from nltk.sentiment.vader import SentimentIntensityAnalyzer\n",
    "    \n",
    "#     nltk_sentiment = SentimentIntensityAnalyzer()\n",
    "#     score = nltk_sentiment.polarity_scores(text)\n",
    "#     return score"
   ]
  },
  {
   "cell_type": "markdown",
   "metadata": {
    "colab_type": "text",
    "id": "yKzHLR9VNM7d"
   },
   "source": [
    "Sentiment Analysis on Canada Video Tags"
   ]
  },
  {
   "cell_type": "code",
   "execution_count": 0,
   "metadata": {
    "colab": {},
    "colab_type": "code",
    "id": "Bwk2d0KkMUXF"
   },
   "outputs": [],
   "source": [
    "# video_id = pd.DataFrame(ca.video_id)\n",
    "# ca_tag_tokens = ca.tags.apply(lambda x: x.split('|'))\n",
    "# nltk_results = [nltk_sentiment(row) for row in ca_tag_tokens]\n",
    "# results_df = pd.DataFrame(nltk_results)\n",
    "# results_df = video_id.join(results_df)\n",
    "# text_df = pd.DataFrame(ca.tags)\n",
    "# country_df = pd.DataFrame({'country': ['CA']*len(ca)})\n",
    "# nltk_df = text_df.join(results_df)\n",
    "# sen_ca_df = country_df.join(nltk_df)"
   ]
  },
  {
   "cell_type": "markdown",
   "metadata": {
    "colab_type": "text",
    "id": "Lc3bKmjcNUIb"
   },
   "source": [
    "Sentiment Analysis on UK Video Tags"
   ]
  },
  {
   "cell_type": "code",
   "execution_count": 0,
   "metadata": {
    "colab": {},
    "colab_type": "code",
    "id": "yl0USPKHMWm5"
   },
   "outputs": [],
   "source": [
    "# video_id = pd.DataFrame(gb.video_id)\n",
    "# gb_tag_tokens = gb.tags.apply(lambda x: x.split('|'))\n",
    "# nltk_results = [nltk_sentiment(row) for row in gb_tag_tokens]\n",
    "# results_df = pd.DataFrame(nltk_results)\n",
    "# results_df = video_id.join(results_df)\n",
    "# text_df = pd.DataFrame(gb.tags)\n",
    "# country_df = pd.DataFrame({'country': ['UK']*len(gb)})\n",
    "# nltk_df = text_df.join(results_df)\n",
    "# sen_gb_df = country_df.join(nltk_df)"
   ]
  },
  {
   "cell_type": "markdown",
   "metadata": {
    "colab_type": "text",
    "id": "z8eaDczrNXY9"
   },
   "source": [
    "Sentiment Analysis on US Video Tags"
   ]
  },
  {
   "cell_type": "code",
   "execution_count": 0,
   "metadata": {
    "colab": {},
    "colab_type": "code",
    "id": "P-_IrI2ZMWrE"
   },
   "outputs": [],
   "source": [
    "# video_id = pd.DataFrame(us.video_id)\n",
    "# us_tag_tokens = us.tags.apply(lambda x: x.split('|'))\n",
    "# nltk_results = [nltk_sentiment(row) for row in us_tag_tokens]\n",
    "# results_df = pd.DataFrame(nltk_results)\n",
    "# results_df = video_id.join(results_df)\n",
    "# text_df = pd.DataFrame(us.tags)\n",
    "# country_df = pd.DataFrame({'country': ['US']*len(us)})\n",
    "# nltk_df = text_df.join(results_df)\n",
    "# sen_us_df = country_df.join(nltk_df)"
   ]
  },
  {
   "cell_type": "code",
   "execution_count": 0,
   "metadata": {
    "colab": {},
    "colab_type": "code",
    "id": "o0pmW62HMWpm"
   },
   "outputs": [],
   "source": [
    "# sen = sen_ca_df.append(sen_gb_df)\n",
    "# sen = sen.append(sen_us_df)\n",
    "# sen.head()"
   ]
  },
  {
   "cell_type": "code",
   "execution_count": 0,
   "metadata": {
    "colab": {},
    "colab_type": "code",
    "id": "K8EsavQFMUZ7"
   },
   "outputs": [],
   "source": [
    "# export_csv = sen.to_csv ('/Users/jiaying/Desktop/MScA/Quarter\\ 2\\ Jan\\ 2020\\ -\\ Mar\\ 2020/Data\\ Mining/Final\\ Project/data/sentiment_tags.csv', \n",
    "#                         index = None, header=True)"
   ]
  },
  {
   "cell_type": "code",
   "execution_count": 10,
   "metadata": {
    "colab": {
     "base_uri": "https://localhost:8080/",
     "height": 204
    },
    "colab_type": "code",
    "executionInfo": {
     "elapsed": 2154,
     "status": "ok",
     "timestamp": 1583978968316,
     "user": {
      "displayName": "Xinyuan Gao",
      "photoUrl": "",
      "userId": "06021905912057186784"
     },
     "user_tz": 300
    },
    "id": "KYwktE2RMjSt",
    "outputId": "1c58a1da-4122-47a4-cb92-58e2f7248b7a"
   },
   "outputs": [
    {
     "data": {
      "text/html": [
       "<div>\n",
       "<style scoped>\n",
       "    .dataframe tbody tr th:only-of-type {\n",
       "        vertical-align: middle;\n",
       "    }\n",
       "\n",
       "    .dataframe tbody tr th {\n",
       "        vertical-align: top;\n",
       "    }\n",
       "\n",
       "    .dataframe thead th {\n",
       "        text-align: right;\n",
       "    }\n",
       "</style>\n",
       "<table border=\"1\" class=\"dataframe\">\n",
       "  <thead>\n",
       "    <tr style=\"text-align: right;\">\n",
       "      <th></th>\n",
       "      <th>country</th>\n",
       "      <th>tags</th>\n",
       "      <th>video_id</th>\n",
       "      <th>neg</th>\n",
       "      <th>neu</th>\n",
       "      <th>pos</th>\n",
       "      <th>compound</th>\n",
       "    </tr>\n",
       "  </thead>\n",
       "  <tbody>\n",
       "    <tr>\n",
       "      <th>0</th>\n",
       "      <td>CA</td>\n",
       "      <td>Eminem|\"Walk\"|\"On\"|\"Water\"|\"Aftermath/Shady/In...</td>\n",
       "      <td>n1WpP7iowLc</td>\n",
       "      <td>0.0</td>\n",
       "      <td>1.0</td>\n",
       "      <td>0.0</td>\n",
       "      <td>0.0000</td>\n",
       "    </tr>\n",
       "    <tr>\n",
       "      <th>1</th>\n",
       "      <td>CA</td>\n",
       "      <td>plush|\"bad unboxing\"|\"unboxing\"|\"fan mail\"|\"id...</td>\n",
       "      <td>0dBIkQ4Mz1M</td>\n",
       "      <td>0.0</td>\n",
       "      <td>1.0</td>\n",
       "      <td>0.0</td>\n",
       "      <td>0.0000</td>\n",
       "    </tr>\n",
       "    <tr>\n",
       "      <th>2</th>\n",
       "      <td>CA</td>\n",
       "      <td>racist superman|\"rudy\"|\"mancuso\"|\"king\"|\"bach\"...</td>\n",
       "      <td>5qpjK5DgCt4</td>\n",
       "      <td>0.2</td>\n",
       "      <td>0.8</td>\n",
       "      <td>0.0</td>\n",
       "      <td>-0.6124</td>\n",
       "    </tr>\n",
       "    <tr>\n",
       "      <th>3</th>\n",
       "      <td>CA</td>\n",
       "      <td>ryan|\"higa\"|\"higatv\"|\"nigahiga\"|\"i dare you\"|\"...</td>\n",
       "      <td>d380meD0W0M</td>\n",
       "      <td>0.0</td>\n",
       "      <td>1.0</td>\n",
       "      <td>0.0</td>\n",
       "      <td>0.0000</td>\n",
       "    </tr>\n",
       "    <tr>\n",
       "      <th>4</th>\n",
       "      <td>CA</td>\n",
       "      <td>edsheeran|\"ed sheeran\"|\"acoustic\"|\"live\"|\"cove...</td>\n",
       "      <td>2Vv-BfVoq4g</td>\n",
       "      <td>0.0</td>\n",
       "      <td>1.0</td>\n",
       "      <td>0.0</td>\n",
       "      <td>0.0000</td>\n",
       "    </tr>\n",
       "  </tbody>\n",
       "</table>\n",
       "</div>"
      ],
      "text/plain": [
       "  country                                               tags  ...  pos  compound\n",
       "0      CA  Eminem|\"Walk\"|\"On\"|\"Water\"|\"Aftermath/Shady/In...  ...  0.0    0.0000\n",
       "1      CA  plush|\"bad unboxing\"|\"unboxing\"|\"fan mail\"|\"id...  ...  0.0    0.0000\n",
       "2      CA  racist superman|\"rudy\"|\"mancuso\"|\"king\"|\"bach\"...  ...  0.0   -0.6124\n",
       "3      CA  ryan|\"higa\"|\"higatv\"|\"nigahiga\"|\"i dare you\"|\"...  ...  0.0    0.0000\n",
       "4      CA  edsheeran|\"ed sheeran\"|\"acoustic\"|\"live\"|\"cove...  ...  0.0    0.0000\n",
       "\n",
       "[5 rows x 7 columns]"
      ]
     },
     "execution_count": 10,
     "metadata": {
      "tags": []
     },
     "output_type": "execute_result"
    }
   ],
   "source": [
    "sa_path = '/content/drive/My Drive/Data Mining Project/data/sentiment_analysis.csv'\n",
    "sa = pd.read_csv(sa_path)\n",
    "sa.head()"
   ]
  },
  {
   "cell_type": "code",
   "execution_count": 0,
   "metadata": {
    "colab": {},
    "colab_type": "code",
    "id": "EYNUJgL3MpOc"
   },
   "outputs": [],
   "source": [
    "sa_all = sa.drop(['video_id', 'country', 'tags'], axis = 1)"
   ]
  },
  {
   "cell_type": "code",
   "execution_count": 0,
   "metadata": {
    "colab": {
     "base_uri": "https://localhost:8080/",
     "height": 204
    },
    "colab_type": "code",
    "executionInfo": {
     "elapsed": 410166,
     "status": "ok",
     "timestamp": 1583820768163,
     "user": {
      "displayName": "Xinyuan Gao",
      "photoUrl": "",
      "userId": "06021905912057186784"
     },
     "user_tz": 300
    },
    "id": "iysyWZ0VMpYQ",
    "outputId": "7c14a3d5-3092-48b0-90e5-8ff01915383b"
   },
   "outputs": [
    {
     "data": {
      "text/html": [
       "<div>\n",
       "<style scoped>\n",
       "    .dataframe tbody tr th:only-of-type {\n",
       "        vertical-align: middle;\n",
       "    }\n",
       "\n",
       "    .dataframe tbody tr th {\n",
       "        vertical-align: top;\n",
       "    }\n",
       "\n",
       "    .dataframe thead th {\n",
       "        text-align: right;\n",
       "    }\n",
       "</style>\n",
       "<table border=\"1\" class=\"dataframe\">\n",
       "  <thead>\n",
       "    <tr style=\"text-align: right;\">\n",
       "      <th></th>\n",
       "      <th>neg</th>\n",
       "      <th>neu</th>\n",
       "      <th>pos</th>\n",
       "      <th>compound</th>\n",
       "    </tr>\n",
       "  </thead>\n",
       "  <tbody>\n",
       "    <tr>\n",
       "      <th>0</th>\n",
       "      <td>0.0</td>\n",
       "      <td>1.0</td>\n",
       "      <td>0.0</td>\n",
       "      <td>0.0000</td>\n",
       "    </tr>\n",
       "    <tr>\n",
       "      <th>1</th>\n",
       "      <td>0.0</td>\n",
       "      <td>1.0</td>\n",
       "      <td>0.0</td>\n",
       "      <td>0.0000</td>\n",
       "    </tr>\n",
       "    <tr>\n",
       "      <th>2</th>\n",
       "      <td>0.2</td>\n",
       "      <td>0.8</td>\n",
       "      <td>0.0</td>\n",
       "      <td>-0.6124</td>\n",
       "    </tr>\n",
       "    <tr>\n",
       "      <th>3</th>\n",
       "      <td>0.0</td>\n",
       "      <td>1.0</td>\n",
       "      <td>0.0</td>\n",
       "      <td>0.0000</td>\n",
       "    </tr>\n",
       "    <tr>\n",
       "      <th>4</th>\n",
       "      <td>0.0</td>\n",
       "      <td>1.0</td>\n",
       "      <td>0.0</td>\n",
       "      <td>0.0000</td>\n",
       "    </tr>\n",
       "  </tbody>\n",
       "</table>\n",
       "</div>"
      ],
      "text/plain": [
       "   neg  neu  pos  compound\n",
       "0  0.0  1.0  0.0    0.0000\n",
       "1  0.0  1.0  0.0    0.0000\n",
       "2  0.2  0.8  0.0   -0.6124\n",
       "3  0.0  1.0  0.0    0.0000\n",
       "4  0.0  1.0  0.0    0.0000"
      ]
     },
     "execution_count": 113,
     "metadata": {
      "tags": []
     },
     "output_type": "execute_result"
    }
   ],
   "source": [
    "sa_all.head()"
   ]
  },
  {
   "cell_type": "markdown",
   "metadata": {
    "colab_type": "text",
    "id": "oT_P5bOgNtUC"
   },
   "source": [
    "Add Positive, Negative, and Neutral Scores to df"
   ]
  },
  {
   "cell_type": "code",
   "execution_count": 0,
   "metadata": {
    "colab": {
     "base_uri": "https://localhost:8080/",
     "height": 34
    },
    "colab_type": "code",
    "executionInfo": {
     "elapsed": 410266,
     "status": "ok",
     "timestamp": 1583820768271,
     "user": {
      "displayName": "Xinyuan Gao",
      "photoUrl": "",
      "userId": "06021905912057186784"
     },
     "user_tz": 300
    },
    "id": "fcbehKqhM3gr",
    "outputId": "f82b94e0-9c09-4e78-d4d3-eb738a3429e4"
   },
   "outputs": [
    {
     "data": {
      "text/plain": [
       "(120746, 58)"
      ]
     },
     "execution_count": 114,
     "metadata": {
      "tags": []
     },
     "output_type": "execute_result"
    }
   ],
   "source": [
    "# merge with df\n",
    "df.reset_index(inplace=True, drop=True)\n",
    "sa_all.reset_index(inplace=True, drop=True)\n",
    "df_merge = pd.concat([df, sa_all], axis=1)\n",
    "df_merge.shape"
   ]
  },
  {
   "cell_type": "code",
   "execution_count": 0,
   "metadata": {
    "colab": {
     "base_uri": "https://localhost:8080/",
     "height": 417
    },
    "colab_type": "code",
    "executionInfo": {
     "elapsed": 410380,
     "status": "ok",
     "timestamp": 1583820768394,
     "user": {
      "displayName": "Xinyuan Gao",
      "photoUrl": "",
      "userId": "06021905912057186784"
     },
     "user_tz": 300
    },
    "id": "kLuXq9DjNmvS",
    "outputId": "fad69436-328e-44d0-fc9d-e95f3e4e8f27"
   },
   "outputs": [
    {
     "data": {
      "text/html": [
       "<div>\n",
       "<style scoped>\n",
       "    .dataframe tbody tr th:only-of-type {\n",
       "        vertical-align: middle;\n",
       "    }\n",
       "\n",
       "    .dataframe tbody tr th {\n",
       "        vertical-align: top;\n",
       "    }\n",
       "\n",
       "    .dataframe thead th {\n",
       "        text-align: right;\n",
       "    }\n",
       "</style>\n",
       "<table border=\"1\" class=\"dataframe\">\n",
       "  <thead>\n",
       "    <tr style=\"text-align: right;\">\n",
       "      <th></th>\n",
       "      <th>video_id</th>\n",
       "      <th>trending_date</th>\n",
       "      <th>title</th>\n",
       "      <th>channel_title</th>\n",
       "      <th>category_id</th>\n",
       "      <th>publish_time</th>\n",
       "      <th>tags</th>\n",
       "      <th>views</th>\n",
       "      <th>likes</th>\n",
       "      <th>dislikes</th>\n",
       "      <th>comment_count</th>\n",
       "      <th>thumbnail_link</th>\n",
       "      <th>comments_disabled</th>\n",
       "      <th>ratings_disabled</th>\n",
       "      <th>video_error_or_removed</th>\n",
       "      <th>description</th>\n",
       "      <th>category</th>\n",
       "      <th>country</th>\n",
       "      <th>views_cat</th>\n",
       "      <th>publish_day_of_Week</th>\n",
       "      <th>Friday</th>\n",
       "      <th>Monday</th>\n",
       "      <th>Saturday</th>\n",
       "      <th>Sunday</th>\n",
       "      <th>Thursday</th>\n",
       "      <th>Tuesday</th>\n",
       "      <th>Wednesday</th>\n",
       "      <th>publish_date</th>\n",
       "      <th>publish_hour</th>\n",
       "      <th>days_to_trending</th>\n",
       "      <th>title_char_length</th>\n",
       "      <th>title_word_count</th>\n",
       "      <th>title_allcap</th>\n",
       "      <th>title_question</th>\n",
       "      <th>tag_nums</th>\n",
       "      <th>desc_url</th>\n",
       "      <th>desc_emoji</th>\n",
       "      <th>desc_number</th>\n",
       "      <th>desc_char_length</th>\n",
       "      <th>desc_word_count</th>\n",
       "      <th>desc</th>\n",
       "      <th>tokenize</th>\n",
       "      <th>stemming</th>\n",
       "      <th>lemmatized</th>\n",
       "      <th>bp</th>\n",
       "      <th>competence</th>\n",
       "      <th>excitement</th>\n",
       "      <th>ruggedness</th>\n",
       "      <th>sincerity</th>\n",
       "      <th>sophistication</th>\n",
       "      <th>like_dislike_ratio</th>\n",
       "      <th>like_view_ratio</th>\n",
       "      <th>dislike_view_ratio</th>\n",
       "      <th>comment_view_ratio</th>\n",
       "      <th>neg</th>\n",
       "      <th>neu</th>\n",
       "      <th>pos</th>\n",
       "      <th>compound</th>\n",
       "    </tr>\n",
       "  </thead>\n",
       "  <tbody>\n",
       "    <tr>\n",
       "      <th>0</th>\n",
       "      <td>n1WpP7iowLc</td>\n",
       "      <td>2017-11-14</td>\n",
       "      <td>Eminem - Walk On Water (Audio) ft. Beyoncé</td>\n",
       "      <td>EminemVEVO</td>\n",
       "      <td>10</td>\n",
       "      <td>17:00:03</td>\n",
       "      <td>Eminem|\"Walk\"|\"On\"|\"Water\"|\"Aftermath/Shady/In...</td>\n",
       "      <td>17158579</td>\n",
       "      <td>787425</td>\n",
       "      <td>43420</td>\n",
       "      <td>125882</td>\n",
       "      <td>https://i.ytimg.com/vi/n1WpP7iowLc/default.jpg</td>\n",
       "      <td>False</td>\n",
       "      <td>False</td>\n",
       "      <td>False</td>\n",
       "      <td>Eminem's new track Walk on Water ft. Beyoncé i...</td>\n",
       "      <td>Music</td>\n",
       "      <td>CA</td>\n",
       "      <td>1</td>\n",
       "      <td>Friday</td>\n",
       "      <td>1</td>\n",
       "      <td>0</td>\n",
       "      <td>0</td>\n",
       "      <td>0</td>\n",
       "      <td>0</td>\n",
       "      <td>0</td>\n",
       "      <td>0</td>\n",
       "      <td>2017-11-10</td>\n",
       "      <td>17</td>\n",
       "      <td>4</td>\n",
       "      <td>42</td>\n",
       "      <td>8</td>\n",
       "      <td>0</td>\n",
       "      <td>0</td>\n",
       "      <td>6</td>\n",
       "      <td>1</td>\n",
       "      <td>0</td>\n",
       "      <td>1</td>\n",
       "      <td>594.0</td>\n",
       "      <td>34.0</td>\n",
       "      <td>eminems new track walk on water ft beyoncé is ...</td>\n",
       "      <td>[eminems, new, track, walk, water, ft, beyoncé...</td>\n",
       "      <td>[eminem, new, track, walk, water, ft, beyoncé,...</td>\n",
       "      <td>[eminem, new, track, walk, water, ft, beyoncé,...</td>\n",
       "      <td>{excitement}</td>\n",
       "      <td>0</td>\n",
       "      <td>1</td>\n",
       "      <td>0</td>\n",
       "      <td>0</td>\n",
       "      <td>0</td>\n",
       "      <td>18.135076</td>\n",
       "      <td>0.045891</td>\n",
       "      <td>0.002531</td>\n",
       "      <td>0.007336</td>\n",
       "      <td>0.0</td>\n",
       "      <td>1.0</td>\n",
       "      <td>0.0</td>\n",
       "      <td>0.0000</td>\n",
       "    </tr>\n",
       "    <tr>\n",
       "      <th>1</th>\n",
       "      <td>0dBIkQ4Mz1M</td>\n",
       "      <td>2017-11-14</td>\n",
       "      <td>PLUSH - Bad Unboxing Fan Mail</td>\n",
       "      <td>iDubbbzTV</td>\n",
       "      <td>23</td>\n",
       "      <td>17:00:00</td>\n",
       "      <td>plush|\"bad unboxing\"|\"unboxing\"|\"fan mail\"|\"id...</td>\n",
       "      <td>1014651</td>\n",
       "      <td>127794</td>\n",
       "      <td>1688</td>\n",
       "      <td>13030</td>\n",
       "      <td>https://i.ytimg.com/vi/0dBIkQ4Mz1M/default.jpg</td>\n",
       "      <td>False</td>\n",
       "      <td>False</td>\n",
       "      <td>False</td>\n",
       "      <td>STill got a lot of packages. Probably will las...</td>\n",
       "      <td>Comedy</td>\n",
       "      <td>CA</td>\n",
       "      <td>0</td>\n",
       "      <td>Monday</td>\n",
       "      <td>0</td>\n",
       "      <td>1</td>\n",
       "      <td>0</td>\n",
       "      <td>0</td>\n",
       "      <td>0</td>\n",
       "      <td>0</td>\n",
       "      <td>0</td>\n",
       "      <td>2017-11-13</td>\n",
       "      <td>17</td>\n",
       "      <td>1</td>\n",
       "      <td>29</td>\n",
       "      <td>6</td>\n",
       "      <td>1</td>\n",
       "      <td>0</td>\n",
       "      <td>11</td>\n",
       "      <td>1</td>\n",
       "      <td>0</td>\n",
       "      <td>1</td>\n",
       "      <td>704.0</td>\n",
       "      <td>61.0</td>\n",
       "      <td>still got a lot of packages probably will last...</td>\n",
       "      <td>[still, got, lot, packages, probably, last, an...</td>\n",
       "      <td>[still, got, lot, packag, probabl, last, anoth...</td>\n",
       "      <td>[still, got, lot, packag, probabl, last, anoth...</td>\n",
       "      <td>{competence}</td>\n",
       "      <td>1</td>\n",
       "      <td>0</td>\n",
       "      <td>0</td>\n",
       "      <td>0</td>\n",
       "      <td>0</td>\n",
       "      <td>75.707346</td>\n",
       "      <td>0.125949</td>\n",
       "      <td>0.001664</td>\n",
       "      <td>0.012842</td>\n",
       "      <td>0.0</td>\n",
       "      <td>1.0</td>\n",
       "      <td>0.0</td>\n",
       "      <td>0.0000</td>\n",
       "    </tr>\n",
       "    <tr>\n",
       "      <th>2</th>\n",
       "      <td>5qpjK5DgCt4</td>\n",
       "      <td>2017-11-14</td>\n",
       "      <td>Racist Superman | Rudy Mancuso, King Bach &amp; Le...</td>\n",
       "      <td>Rudy Mancuso</td>\n",
       "      <td>23</td>\n",
       "      <td>19:05:24</td>\n",
       "      <td>racist superman|\"rudy\"|\"mancuso\"|\"king\"|\"bach\"...</td>\n",
       "      <td>3191434</td>\n",
       "      <td>146035</td>\n",
       "      <td>5339</td>\n",
       "      <td>8181</td>\n",
       "      <td>https://i.ytimg.com/vi/5qpjK5DgCt4/default.jpg</td>\n",
       "      <td>False</td>\n",
       "      <td>False</td>\n",
       "      <td>False</td>\n",
       "      <td>WATCH MY PREVIOUS VIDEO ▶ \\n\\nSUBSCRIBE ► http...</td>\n",
       "      <td>Comedy</td>\n",
       "      <td>CA</td>\n",
       "      <td>1</td>\n",
       "      <td>Sunday</td>\n",
       "      <td>0</td>\n",
       "      <td>0</td>\n",
       "      <td>0</td>\n",
       "      <td>1</td>\n",
       "      <td>0</td>\n",
       "      <td>0</td>\n",
       "      <td>0</td>\n",
       "      <td>2017-11-12</td>\n",
       "      <td>19</td>\n",
       "      <td>2</td>\n",
       "      <td>53</td>\n",
       "      <td>10</td>\n",
       "      <td>0</td>\n",
       "      <td>0</td>\n",
       "      <td>23</td>\n",
       "      <td>1</td>\n",
       "      <td>0</td>\n",
       "      <td>1</td>\n",
       "      <td>1177.0</td>\n",
       "      <td>74.0</td>\n",
       "      <td>watch my previous video  subscribe   for watch...</td>\n",
       "      <td>[watch, previous, video, subscribe, watching, ...</td>\n",
       "      <td>[watch, previou, video, subscrib, watch, like,...</td>\n",
       "      <td>[watch, previou, video, subscrib, watch, like,...</td>\n",
       "      <td>{}</td>\n",
       "      <td>0</td>\n",
       "      <td>0</td>\n",
       "      <td>0</td>\n",
       "      <td>0</td>\n",
       "      <td>0</td>\n",
       "      <td>27.352500</td>\n",
       "      <td>0.045758</td>\n",
       "      <td>0.001673</td>\n",
       "      <td>0.002563</td>\n",
       "      <td>0.2</td>\n",
       "      <td>0.8</td>\n",
       "      <td>0.0</td>\n",
       "      <td>-0.6124</td>\n",
       "    </tr>\n",
       "  </tbody>\n",
       "</table>\n",
       "</div>"
      ],
      "text/plain": [
       "      video_id trending_date  ...  pos compound\n",
       "0  n1WpP7iowLc    2017-11-14  ...  0.0   0.0000\n",
       "1  0dBIkQ4Mz1M    2017-11-14  ...  0.0   0.0000\n",
       "2  5qpjK5DgCt4    2017-11-14  ...  0.0  -0.6124\n",
       "\n",
       "[3 rows x 58 columns]"
      ]
     },
     "execution_count": 115,
     "metadata": {
      "tags": []
     },
     "output_type": "execute_result"
    }
   ],
   "source": [
    "df_merge.head(3)"
   ]
  },
  {
   "cell_type": "code",
   "execution_count": 0,
   "metadata": {
    "colab": {},
    "colab_type": "code",
    "id": "P5iLM5I9A8ZQ"
   },
   "outputs": [],
   "source": [
    "df_merge.to_csv('/content/drive/My Drive/Data Mining Project/data/df_merge.csv')"
   ]
  },
  {
   "cell_type": "code",
   "execution_count": 0,
   "metadata": {
    "colab": {
     "base_uri": "https://localhost:8080/",
     "height": 34
    },
    "colab_type": "code",
    "executionInfo": {
     "elapsed": 439352,
     "status": "ok",
     "timestamp": 1583820797376,
     "user": {
      "displayName": "Xinyuan Gao",
      "photoUrl": "",
      "userId": "06021905912057186784"
     },
     "user_tz": 300
    },
    "id": "tvKVsT5WPTCT",
    "outputId": "26824ca1-5e64-40cb-eeba-8ace02cb074b"
   },
   "outputs": [
    {
     "data": {
      "text/plain": [
       "(120746, 58)"
      ]
     },
     "execution_count": 117,
     "metadata": {
      "tags": []
     },
     "output_type": "execute_result"
    }
   ],
   "source": [
    "df_merge.shape"
   ]
  },
  {
   "cell_type": "code",
   "execution_count": 0,
   "metadata": {
    "colab": {},
    "colab_type": "code",
    "id": "X7jSg6NSNdrm"
   },
   "outputs": [],
   "source": [
    "categories = pd.get_dummies(df_merge.category)\n",
    "df_new = df_merge.join(categories)\n",
    "\n",
    "countries = pd.get_dummies(df_new.country)\n",
    "df_new = df_new.join(countries)"
   ]
  },
  {
   "cell_type": "code",
   "execution_count": 0,
   "metadata": {
    "colab": {
     "base_uri": "https://localhost:8080/",
     "height": 34
    },
    "colab_type": "code",
    "executionInfo": {
     "elapsed": 293,
     "status": "ok",
     "timestamp": 1583820819344,
     "user": {
      "displayName": "Xinyuan Gao",
      "photoUrl": "",
      "userId": "06021905912057186784"
     },
     "user_tz": 300
    },
    "id": "C_ydBy9yDCzg",
    "outputId": "10ebc776-34ec-4aa5-8b0e-c7e46ee9c630"
   },
   "outputs": [
    {
     "data": {
      "text/plain": [
       "(120746, 78)"
      ]
     },
     "execution_count": 120,
     "metadata": {
      "tags": []
     },
     "output_type": "execute_result"
    }
   ],
   "source": [
    "df_new.shape"
   ]
  },
  {
   "cell_type": "code",
   "execution_count": 0,
   "metadata": {
    "colab": {},
    "colab_type": "code",
    "id": "uD5WworDN41R"
   },
   "outputs": [],
   "source": [
    "df_drop = df_new.drop(['video_id', 'views', 'trending_date', 'title', 'channel_title', 'category_id', \\\n",
    "                          'tags', 'likes', 'dislikes', 'comment_count', 'thumbnail_link', 'description', \\\n",
    "                          'category', 'country', 'publish_date', 'desc', 'tokenize', 'stemming', \\\n",
    "                          'lemmatized', 'bp', 'like_dislike_ratio', 'like_view_ratio', 'dislike_view_ratio', \\\n",
    "                          'comment_view_ratio', 'days_to_trending'], axis = 1)"
   ]
  },
  {
   "cell_type": "code",
   "execution_count": 0,
   "metadata": {
    "colab": {},
    "colab_type": "code",
    "id": "Z5Xy3TdiOKfm"
   },
   "outputs": [],
   "source": [
    "df_clean = df_drop.drop(['publish_day_of_Week','publish_time'], axis = 1)"
   ]
  },
  {
   "cell_type": "code",
   "execution_count": 0,
   "metadata": {
    "colab": {
     "base_uri": "https://localhost:8080/",
     "height": 34
    },
    "colab_type": "code",
    "executionInfo": {
     "elapsed": 232,
     "status": "ok",
     "timestamp": 1583820852773,
     "user": {
      "displayName": "Xinyuan Gao",
      "photoUrl": "",
      "userId": "06021905912057186784"
     },
     "user_tz": 300
    },
    "id": "OMEg8FwXRBHV",
    "outputId": "2d9bbae6-990f-4e7d-b868-7757d8d2c2bd"
   },
   "outputs": [
    {
     "data": {
      "text/plain": [
       "(120746, 51)"
      ]
     },
     "execution_count": 123,
     "metadata": {
      "tags": []
     },
     "output_type": "execute_result"
    }
   ],
   "source": [
    "df_clean.shape"
   ]
  },
  {
   "cell_type": "code",
   "execution_count": 0,
   "metadata": {
    "colab": {},
    "colab_type": "code",
    "id": "i7pG4KQ-Nazf"
   },
   "outputs": [],
   "source": [
    "df_clean.to_csv('/content/drive/My Drive/Data Mining Project/data/df_clean.csv')"
   ]
  },
  {
   "cell_type": "markdown",
   "metadata": {
    "colab_type": "text",
    "id": "W0BEs8w5To0X"
   },
   "source": [
    "## Further Analysis"
   ]
  },
  {
   "cell_type": "markdown",
   "metadata": {
    "colab_type": "text",
    "id": "sTArq4TbTyCY"
   },
   "source": [
    "How many YouTube videos trended in more than 1 country?"
   ]
  },
  {
   "cell_type": "code",
   "execution_count": 0,
   "metadata": {
    "colab": {},
    "colab_type": "code",
    "id": "Ff6LiY4yTq0l"
   },
   "outputs": [],
   "source": [
    "ca_video_counts = pd.DataFrame(ca.groupby('video_id').size(), columns = ['CA'])\n",
    "gb_video_counts = pd.DataFrame(gb.groupby('video_id').size(), columns = ['UK'])\n",
    "us_video_counts = pd.DataFrame(us.groupby('video_id').size(), columns = ['US'])\n",
    "\n",
    "video_coexist = ca_video_counts.join(gb_video_counts, how = 'outer')\n",
    "video_coexist = video_coexist.join(us_video_counts, how = 'outer')\n",
    "video_coexist = video_coexist.fillna(0)\n",
    "video_coexist['Total'] = video_coexist.sum(axis = 1)\n",
    "video_coexist.sort_values(by = 'CA', ascending = False).head()"
   ]
  },
  {
   "cell_type": "code",
   "execution_count": 0,
   "metadata": {
    "colab": {},
    "colab_type": "code",
    "id": "90TWpjZsTzKf"
   },
   "outputs": [],
   "source": [
    "total_video = video_coexist.shape[0]\n",
    "trending_more = ((video_coexist == 0).astype(int).sum(axis=1) > 1).sum()\n",
    "trending_more_pct = round(((video_coexist == 0).astype(int).sum(axis=1) > 1).sum()/total_video*100, 2)\n",
    "print('Among {} videos, {} ({}%) videos trended in more than 1 country.'.format(total_video, trending_more, trending_more_pct))"
   ]
  },
  {
   "cell_type": "markdown",
   "metadata": {
    "colab_type": "text",
    "id": "LETyhQ0MT4hS"
   },
   "source": [
    "Correlation among different countries\n",
    "\n",
    "It seems like the trending videos from the US and UK have a higher correlation compared to the videos from Canada."
   ]
  },
  {
   "cell_type": "code",
   "execution_count": 0,
   "metadata": {
    "colab": {},
    "colab_type": "code",
    "id": "L2T8AN_1T1ZK"
   },
   "outputs": [],
   "source": [
    "countries = ['CA', 'UK', 'US']\n",
    "corr_matrix = video_coexist[countries].corr()\n",
    "\n",
    "plt.figure(figsize = (8, 8))\n",
    "plt.suptitle('Correlation between Countries', fontsize=15)\n",
    "heatmap = sns.heatmap(corr_matrix,  cmap = sns.diverging_palette(220, 10, as_cmap = True), square = True, annot = True)\n",
    "\n",
    "plt.show()"
   ]
  }
 ],
 "metadata": {
  "colab": {
   "collapsed_sections": [
    "daHnDj_czyxG",
    "Tm9Pivl60aQQ",
    "DNA15AEq0ubM",
    "wqPjP2AZ02vr",
    "VerIZ5M11EDZ",
    "PnFgwecO1Ww-",
    "mPOXmWyM1kih"
   ],
   "name": "Feature Engineering.ipynb",
   "provenance": []
  },
  "kernelspec": {
   "display_name": "Python 3",
   "language": "python",
   "name": "python3"
  },
  "language_info": {
   "codemirror_mode": {
    "name": "ipython",
    "version": 3
   },
   "file_extension": ".py",
   "mimetype": "text/x-python",
   "name": "python",
   "nbconvert_exporter": "python",
   "pygments_lexer": "ipython3",
   "version": "3.7.4"
  }
 },
 "nbformat": 4,
 "nbformat_minor": 1
}
