{
 "cells": [
  {
   "cell_type": "markdown",
   "metadata": {},
   "source": [
    "# Text Data Cleaning"
   ]
  },
  {
   "cell_type": "code",
   "execution_count": 2,
   "metadata": {},
   "outputs": [
    {
     "name": "stderr",
     "output_type": "stream",
     "text": [
      "[nltk_data] Downloading package stopwords to\n",
      "[nltk_data]     /Users/jiaying/nltk_data...\n",
      "[nltk_data]   Package stopwords is already up-to-date!\n",
      "[nltk_data] Downloading package punkt to /Users/jiaying/nltk_data...\n",
      "[nltk_data]   Package punkt is already up-to-date!\n",
      "[nltk_data] Downloading package wordnet to /Users/jiaying/nltk_data...\n",
      "[nltk_data]   Package wordnet is already up-to-date!\n",
      "[nltk_data] Downloading package averaged_perceptron_tagger to\n",
      "[nltk_data]     /Users/jiaying/nltk_data...\n",
      "[nltk_data]   Package averaged_perceptron_tagger is already up-to-\n",
      "[nltk_data]       date!\n",
      "Using TensorFlow backend.\n"
     ]
    },
    {
     "data": {
      "text/html": [
       "        <script type=\"text/javascript\">\n",
       "        window.PlotlyConfig = {MathJaxConfig: 'local'};\n",
       "        if (window.MathJax) {MathJax.Hub.Config({SVG: {font: \"STIX-Web\"}});}\n",
       "        if (typeof require !== 'undefined') {\n",
       "        require.undef(\"plotly\");\n",
       "        requirejs.config({\n",
       "            paths: {\n",
       "                'plotly': ['https://cdn.plot.ly/plotly-latest.min']\n",
       "            }\n",
       "        });\n",
       "        require(['plotly'], function(Plotly) {\n",
       "            window._Plotly = Plotly;\n",
       "        });\n",
       "        }\n",
       "        </script>\n",
       "        "
      ]
     },
     "metadata": {},
     "output_type": "display_data"
    }
   ],
   "source": [
    "# load the packages\n",
    "import json  \n",
    "import re\n",
    "from collections import Counter\n",
    "import copy\n",
    "import string\n",
    "import time\n",
    "import numpy as np\n",
    "import pandas as pd\n",
    "from pandas.io.json import json_normalize  \n",
    "from scipy import stats\n",
    "import matplotlib.pyplot as plt\n",
    "import seaborn as sns\n",
    "sns.set()\n",
    "\n",
    "from textblob import TextBlob\n",
    "from nltk.corpus import stopwords\n",
    "import nltk\n",
    "nltk.download('stopwords')\n",
    "nltk.download('punkt')\n",
    "nltk.download('wordnet')\n",
    "nltk.download('averaged_perceptron_tagger')\n",
    "stop_words = set(stopwords.words('english'))\n",
    "from nltk.tokenize import sent_tokenize, word_tokenize\n",
    "from nltk.stem import PorterStemmer\n",
    "from nltk.stem.snowball import SnowballStemmer\n",
    "from nltk.stem import WordNetLemmatizer\n",
    "from nltk.sentiment import SentimentIntensityAnalyzer\n",
    "from nltk.tokenize import RegexpTokenizer\n",
    "from nltk.tag import StanfordNERTagger\n",
    "from gensim.models import Word2Vec\n",
    "\n",
    "from sklearn.model_selection import train_test_split\n",
    "from sklearn.model_selection import cross_val_score\n",
    "from sklearn.model_selection import RandomizedSearchCV\n",
    "from sklearn.feature_extraction.text import TfidfVectorizer\n",
    "from sklearn.impute import SimpleImputer\n",
    "from sklearn.preprocessing import StandardScaler\n",
    "from sklearn.decomposition import PCA\n",
    "from sklearn.pipeline import Pipeline\n",
    "from sklearn.manifold import TSNE\n",
    "from sklearn.linear_model import LinearRegression\n",
    "from sklearn.linear_model import Lasso\n",
    "from sklearn.linear_model import Ridge\n",
    "from sklearn.linear_model import ElasticNet\n",
    "from sklearn.linear_model import SGDRegressor\n",
    "from sklearn.tree import DecisionTreeRegressor\n",
    "from sklearn.ensemble import RandomForestRegressor\n",
    "from sklearn.ensemble import GradientBoostingRegressor\n",
    "from xgboost.sklearn import XGBRegressor\n",
    "\n",
    "from numpy import array\n",
    "from keras.preprocessing.text import one_hot\n",
    "from keras.preprocessing.sequence import pad_sequences\n",
    "from keras.models import Sequential\n",
    "from keras.preprocessing.text import Tokenizer\n",
    "from keras.preprocessing.sequence import pad_sequences\n",
    "from keras.layers import Dense, Flatten, LSTM, Conv1D, MaxPooling1D, Dropout, Activation\n",
    "from keras.layers.embeddings import Embedding\n",
    "\n",
    "## Plotly\n",
    "import plotly.offline as py\n",
    "import plotly.graph_objs as go\n",
    "py.init_notebook_mode(connected=True)\n",
    "\n",
    "from sklearn.metrics import classification_report\n",
    "\n",
    "%matplotlib inline\n",
    "import warnings\n",
    "warnings.filterwarnings('ignore')\n",
    "\n",
    "SEED = 42"
   ]
  },
  {
   "cell_type": "code",
   "execution_count": 3,
   "metadata": {},
   "outputs": [],
   "source": [
    "text = pd.read_csv('text.csv', lineterminator='\\n')"
   ]
  },
  {
   "cell_type": "code",
   "execution_count": 4,
   "metadata": {},
   "outputs": [
    {
     "data": {
      "text/html": [
       "<div>\n",
       "<style scoped>\n",
       "    .dataframe tbody tr th:only-of-type {\n",
       "        vertical-align: middle;\n",
       "    }\n",
       "\n",
       "    .dataframe tbody tr th {\n",
       "        vertical-align: top;\n",
       "    }\n",
       "\n",
       "    .dataframe thead th {\n",
       "        text-align: right;\n",
       "    }\n",
       "</style>\n",
       "<table border=\"1\" class=\"dataframe\">\n",
       "  <thead>\n",
       "    <tr style=\"text-align: right;\">\n",
       "      <th></th>\n",
       "      <th>title</th>\n",
       "      <th>channel_title</th>\n",
       "      <th>tags</th>\n",
       "      <th>description</th>\n",
       "      <th>category</th>\n",
       "      <th>country</th>\n",
       "      <th>views</th>\n",
       "      <th>popular</th>\n",
       "    </tr>\n",
       "  </thead>\n",
       "  <tbody>\n",
       "    <tr>\n",
       "      <td>0</td>\n",
       "      <td>Eminem - Walk On Water (Audio) ft. Beyoncé</td>\n",
       "      <td>EminemVEVO</td>\n",
       "      <td>Eminem|\"Walk\"|\"On\"|\"Water\"|\"Aftermath/Shady/In...</td>\n",
       "      <td>Eminem's new track Walk on Water ft. Beyoncé i...</td>\n",
       "      <td>Music</td>\n",
       "      <td>CA</td>\n",
       "      <td>17158579</td>\n",
       "      <td>1</td>\n",
       "    </tr>\n",
       "    <tr>\n",
       "      <td>1</td>\n",
       "      <td>PLUSH - Bad Unboxing Fan Mail</td>\n",
       "      <td>iDubbbzTV</td>\n",
       "      <td>plush|\"bad unboxing\"|\"unboxing\"|\"fan mail\"|\"id...</td>\n",
       "      <td>STill got a lot of packages. Probably will las...</td>\n",
       "      <td>Comedy</td>\n",
       "      <td>CA</td>\n",
       "      <td>1014651</td>\n",
       "      <td>0</td>\n",
       "    </tr>\n",
       "    <tr>\n",
       "      <td>2</td>\n",
       "      <td>Racist Superman | Rudy Mancuso, King Bach &amp; Le...</td>\n",
       "      <td>Rudy Mancuso</td>\n",
       "      <td>racist superman|\"rudy\"|\"mancuso\"|\"king\"|\"bach\"...</td>\n",
       "      <td>WATCH MY PREVIOUS VIDEO ▶ \\n\\nSUBSCRIBE ► http...</td>\n",
       "      <td>Comedy</td>\n",
       "      <td>CA</td>\n",
       "      <td>3191434</td>\n",
       "      <td>1</td>\n",
       "    </tr>\n",
       "    <tr>\n",
       "      <td>3</td>\n",
       "      <td>I Dare You: GOING BALD!?</td>\n",
       "      <td>nigahiga</td>\n",
       "      <td>ryan|\"higa\"|\"higatv\"|\"nigahiga\"|\"i dare you\"|\"...</td>\n",
       "      <td>I know it's been a while since we did this sho...</td>\n",
       "      <td>Entertainment</td>\n",
       "      <td>CA</td>\n",
       "      <td>2095828</td>\n",
       "      <td>1</td>\n",
       "    </tr>\n",
       "    <tr>\n",
       "      <td>4</td>\n",
       "      <td>Ed Sheeran - Perfect (Official Music Video)</td>\n",
       "      <td>Ed Sheeran</td>\n",
       "      <td>edsheeran|\"ed sheeran\"|\"acoustic\"|\"live\"|\"cove...</td>\n",
       "      <td>🎧: https://ad.gt/yt-perfect\\n💰: https://atlant...</td>\n",
       "      <td>Music</td>\n",
       "      <td>CA</td>\n",
       "      <td>33523622</td>\n",
       "      <td>1</td>\n",
       "    </tr>\n",
       "  </tbody>\n",
       "</table>\n",
       "</div>"
      ],
      "text/plain": [
       "                                               title channel_title  \\\n",
       "0         Eminem - Walk On Water (Audio) ft. Beyoncé    EminemVEVO   \n",
       "1                      PLUSH - Bad Unboxing Fan Mail     iDubbbzTV   \n",
       "2  Racist Superman | Rudy Mancuso, King Bach & Le...  Rudy Mancuso   \n",
       "3                           I Dare You: GOING BALD!?      nigahiga   \n",
       "4        Ed Sheeran - Perfect (Official Music Video)    Ed Sheeran   \n",
       "\n",
       "                                                tags  \\\n",
       "0  Eminem|\"Walk\"|\"On\"|\"Water\"|\"Aftermath/Shady/In...   \n",
       "1  plush|\"bad unboxing\"|\"unboxing\"|\"fan mail\"|\"id...   \n",
       "2  racist superman|\"rudy\"|\"mancuso\"|\"king\"|\"bach\"...   \n",
       "3  ryan|\"higa\"|\"higatv\"|\"nigahiga\"|\"i dare you\"|\"...   \n",
       "4  edsheeran|\"ed sheeran\"|\"acoustic\"|\"live\"|\"cove...   \n",
       "\n",
       "                                         description       category country  \\\n",
       "0  Eminem's new track Walk on Water ft. Beyoncé i...          Music      CA   \n",
       "1  STill got a lot of packages. Probably will las...         Comedy      CA   \n",
       "2  WATCH MY PREVIOUS VIDEO ▶ \\n\\nSUBSCRIBE ► http...         Comedy      CA   \n",
       "3  I know it's been a while since we did this sho...  Entertainment      CA   \n",
       "4  🎧: https://ad.gt/yt-perfect\\n💰: https://atlant...          Music      CA   \n",
       "\n",
       "      views  popular  \n",
       "0  17158579        1  \n",
       "1   1014651        0  \n",
       "2   3191434        1  \n",
       "3   2095828        1  \n",
       "4  33523622        1  "
      ]
     },
     "execution_count": 4,
     "metadata": {},
     "output_type": "execute_result"
    }
   ],
   "source": [
    "text.head()"
   ]
  },
  {
   "cell_type": "markdown",
   "metadata": {},
   "source": [
    "<b> Description"
   ]
  },
  {
   "cell_type": "code",
   "execution_count": 5,
   "metadata": {},
   "outputs": [
    {
     "data": {
      "text/plain": [
       "0     Eminem's new track Walk on Water ft. Beyoncé i...\n",
       "1     STill got a lot of packages. Probably will las...\n",
       "2     WATCH MY PREVIOUS VIDEO ▶ \\n\\nSUBSCRIBE ► http...\n",
       "3     I know it's been a while since we did this sho...\n",
       "4     🎧: https://ad.gt/yt-perfect\\n💰: https://atlant...\n",
       "5     ► Follow for News! - https://twitter.com/KEEMS...\n",
       "6     Vanoss Merch Shop: https://vanoss.3blackdot.co...\n",
       "7     SHANTELL'S CHANNEL - https://www.youtube.com/s...\n",
       "8     Join the movement. Be a Maverick ► https://Sho...\n",
       "9     Sheldon is roasting pastor of the church\\nyoun...\n",
       "10    Watch the official music video of Bank Account...\n",
       "11    Subscribe Here: http://bit.ly/2uaz0on\\n12 Hot ...\n",
       "12    Thanks for watching the drama! Help more peopl...\n",
       "13    Song - Daang\\nSinger - Mankirt Aulakh\\nFaceboo...\n",
       "14    CLICK TO SUBSCRIBE TO THE YOUTUBERS IN THIS EP...\n",
       "15    In the Outsmarted finale, Mike trains with an ...\n",
       "16    3 Days left to cop NELK merch: https://nelk.ca...\n",
       "17    I think Sarah Millican was very excited for th...\n",
       "18    Miles gets stuck at work one night watching ov...\n",
       "19    Presenting Sharry Mann latest Punjabi Song  Cu...\n",
       "20    Ice Cream Pint Combination Lock - http://amzn....\n",
       "21    Today we find out if Link is a Nickelback amat...\n",
       "22    Smart Girl Shows How to Build Candy Dispenser\\...\n",
       "23    😃 SUBSCRIBE ► http://bit.ly/SUB2JAKEPAUL | ★ P...\n",
       "24    SUBSCRIBE THEN HIT THE 🔔! New Videos 12pm PT o...\n",
       "25    Wow, we filmed a video, named a show, & beat R...\n",
       "26    Destroying Unbreakable Glasses! ➡ https://www....\n",
       "27    Si vous pensiez que tous les films pour enfant...\n",
       "28    Happy World Kindness Day! Call that family mem...\n",
       "29    Full Song Out Now 15th November\\n\\nHey Yolo, S...\n",
       "30    100,000 LIKES FOR PART 2!!\\n👉 SUBSCRIBE ► http...\n",
       "31    We're hanging with some of the dogs of the Myt...\n",
       "32    It's The Great Try Guys Bake-Off!\\n\\nCredits: ...\n",
       "33    Nouvel ,épisode de Papy Grenier ! Ce mois-ci o...\n",
       "34    【欢迎订阅本频道】\\n\\n该剧讲述了急诊科主任医生何建一与海归医生江晓琪从一开始的互相审视，...\n",
       "35    Over the weekend, President Trump raised eyebr...\n",
       "36    The AH Crew sit down to talk about Jeremy’s ba...\n",
       "37    Thanks to Hila Klein for slammin with me this ...\n",
       "38    She needs your prayers.\\nNEW MERCH!\\nhttps://s...\n",
       "39    Glad we're alive. Thanks for watching guys I l...\n",
       "40    Nouvelle vidéo tous les dimanches matins 10h. ...\n",
       "41    Canada Soccer's Women's National Team face riv...\n",
       "42          Soul Machines is making machines more human\n",
       "43    Former Director of National Intelligence James...\n",
       "44    HEY EVERYONE!!!! ⭐️ Today I'm revealing my ENT...\n",
       "45    Subscribe to the Real Time YouTube: http://its...\n",
       "46    NELK - Before They Were Famous - Kyle Forgeard...\n",
       "47    And it stayed 4-1, the way it always should ha...\n",
       "48    Quand la voix ne colle pas au perso, que la tr...\n",
       "49    Presenting the song 'Ek Dil Ek Jaan' from Padm...\n",
       "Name: description, dtype: object"
      ]
     },
     "execution_count": 5,
     "metadata": {},
     "output_type": "execute_result"
    }
   ],
   "source": [
    "text.description[:50]"
   ]
  },
  {
   "cell_type": "code",
   "execution_count": 6,
   "metadata": {},
   "outputs": [
    {
     "data": {
      "text/plain": [
       "2478"
      ]
     },
     "execution_count": 6,
     "metadata": {},
     "output_type": "execute_result"
    }
   ],
   "source": [
    "text.description.isnull().sum()"
   ]
  },
  {
   "cell_type": "code",
   "execution_count": 7,
   "metadata": {},
   "outputs": [],
   "source": [
    "text.description.fillna('', inplace = True)"
   ]
  },
  {
   "cell_type": "code",
   "execution_count": 8,
   "metadata": {},
   "outputs": [],
   "source": [
    "# remove backslash + 1 character\n",
    "desc_1 = text.description.str.replace('\\\\\\\\.', '', flags=re.MULTILINE)"
   ]
  },
  {
   "cell_type": "code",
   "execution_count": 9,
   "metadata": {},
   "outputs": [
    {
     "data": {
      "text/plain": [
       "0     Eminem's new track Walk on Water ft. Beyoncé i...\n",
       "1     STill got a lot of packages. Probably will las...\n",
       "2     WATCH MY PREVIOUS VIDEO ▶ SUBSCRIBE ► https://...\n",
       "3     I know it's been a while since we did this sho...\n",
       "4     🎧: https://ad.gt/yt-perfect💰: https://atlanti....\n",
       "5     ► Follow for News! - https://twitter.com/KEEMS...\n",
       "6     Vanoss Merch Shop: https://vanoss.3blackdot.co...\n",
       "7     SHANTELL'S CHANNEL - https://www.youtube.com/s...\n",
       "8     Join the movement. Be a Maverick ► https://Sho...\n",
       "9     Sheldon is roasting pastor of the churchyoung ...\n",
       "10    Watch the official music video of Bank Account...\n",
       "11    Subscribe Here: http://bit.ly/2uaz0on12 Hot Gl...\n",
       "12    Thanks for watching the drama! Help more peopl...\n",
       "13    Song - DaangSinger - Mankirt AulakhFacebook - ...\n",
       "14    CLICK TO SUBSCRIBE TO THE YOUTUBERS IN THIS EP...\n",
       "15    In the Outsmarted finale, Mike trains with an ...\n",
       "16    3 Days left to cop NELK merch: https://nelk.ca...\n",
       "17    I think Sarah Millican was very excited for th...\n",
       "18    Miles gets stuck at work one night watching ov...\n",
       "19    Presenting Sharry Mann latest Punjabi Song  Cu...\n",
       "20    Ice Cream Pint Combination Lock - http://amzn....\n",
       "21    Today we find out if Link is a Nickelback amat...\n",
       "22    Smart Girl Shows How to Build Candy DispenserT...\n",
       "23    😃 SUBSCRIBE ► http://bit.ly/SUB2JAKEPAUL | ★ P...\n",
       "24    SUBSCRIBE THEN HIT THE 🔔! New Videos 12pm PT o...\n",
       "25    Wow, we filmed a video, named a show, & beat R...\n",
       "26    Destroying Unbreakable Glasses! ➡ https://www....\n",
       "27    Si vous pensiez que tous les films pour enfant...\n",
       "28    Happy World Kindness Day! Call that family mem...\n",
       "29    Full Song Out Now 15th NovemberHey Yolo, Swag ...\n",
       "30    100,000 LIKES FOR PART 2!!👉 SUBSCRIBE ► http:/...\n",
       "31    We're hanging with some of the dogs of the Myt...\n",
       "32    It's The Great Try Guys Bake-Off!Credits: http...\n",
       "33    Nouvel ,épisode de Papy Grenier ! Ce mois-ci o...\n",
       "34    【欢迎订阅本频道】该剧讲述了急诊科主任医生何建一与海归医生江晓琪从一开始的互相审视，到互相理...\n",
       "35    Over the weekend, President Trump raised eyebr...\n",
       "36    The AH Crew sit down to talk about Jeremy’s ba...\n",
       "37    Thanks to Hila Klein for slammin with me this ...\n",
       "38    She needs your prayers.NEW MERCH!https://store...\n",
       "39    Glad we're alive. Thanks for watching guys I l...\n",
       "40    Nouvelle vidéo tous les dimanches matins 10h. ...\n",
       "41    Canada Soccer's Women's National Team face riv...\n",
       "42          Soul Machines is making machines more human\n",
       "43    Former Director of National Intelligence James...\n",
       "44    HEY EVERYONE!!!! ⭐️ Today I'm revealing my ENT...\n",
       "45    Subscribe to the Real Time YouTube: http://its...\n",
       "46    NELK - Before They Were Famous - Kyle Forgeard...\n",
       "47    And it stayed 4-1, the way it always should ha...\n",
       "48    Quand la voix ne colle pas au perso, que la tr...\n",
       "49    Presenting the song 'Ek Dil Ek Jaan' from Padm...\n",
       "Name: description, dtype: object"
      ]
     },
     "execution_count": 9,
     "metadata": {},
     "output_type": "execute_result"
    }
   ],
   "source": [
    "desc_1[:50]"
   ]
  },
  {
   "cell_type": "code",
   "execution_count": 10,
   "metadata": {},
   "outputs": [],
   "source": [
    "# remove urls\n",
    "desc_2 = desc_1.str.replace('http\\S+', '', flags=re.MULTILINE)"
   ]
  },
  {
   "cell_type": "code",
   "execution_count": 11,
   "metadata": {},
   "outputs": [
    {
     "data": {
      "text/plain": [
       "0     Eminem's new track Walk on Water ft. Beyoncé i...\n",
       "1     STill got a lot of packages. Probably will las...\n",
       "2     WATCH MY PREVIOUS VIDEO ▶ SUBSCRIBE ►  FOR WAT...\n",
       "3     I know it's been a while since we did this sho...\n",
       "4     🎧:   to Ed's channel:  Ed on...Facebook:    We...\n",
       "5     ► Follow for News! -  Also follow #DramaAlert ...\n",
       "6     Vanoss Merch Shop:  by: Evan Fong  by: Jack Wa...\n",
       "7     SHANTELL'S CHANNEL -  -  this video in 4k on t...\n",
       "8     Join the movement. Be a Maverick ►  ONE CAN ST...\n",
       "9     Sheldon is roasting pastor of the churchyoung ...\n",
       "10    Watch the official music video of Bank Account...\n",
       "11    Subscribe Here:  Hot Glue Gun Life Hacks For C...\n",
       "12    Thanks for watching the drama! Help more peopl...\n",
       "13    Song - DaangSinger - Mankirt AulakhFacebook - ...\n",
       "14    CLICK TO SUBSCRIBE TO THE YOUTUBERS IN THIS EP...\n",
       "15    In the Outsmarted finale, Mike trains with an ...\n",
       "16    3 Days left to cop NELK merch:  us on Instagra...\n",
       "17    I think Sarah Millican was very excited for th...\n",
       "18    Miles gets stuck at work one night watching ov...\n",
       "19    Presenting Sharry Mann latest Punjabi Song  Cu...\n",
       "20    Ice Cream Pint Combination Lock -  Ice Cream S...\n",
       "21    Today we find out if Link is a Nickelback amat...\n",
       "22    Smart Girl Shows How to Build Candy DispenserT...\n",
       "23    😃 SUBSCRIBE ►  | ★ PREVIOUS VLOG ►  & DOWNLOAD...\n",
       "24    SUBSCRIBE THEN HIT THE 🔔! New Videos 12pm PT o...\n",
       "25    Wow, we filmed a video, named a show, & beat R...\n",
       "26    Destroying Unbreakable Glasses! ➡  ➡  MORE LIN...\n",
       "27    Si vous pensiez que tous les films pour enfant...\n",
       "28    Happy World Kindness Day! Call that family mem...\n",
       "29    Full Song Out Now 15th NovemberHey Yolo, Swag ...\n",
       "30    100,000 LIKES FOR PART 2!!👉 SUBSCRIBE ►  ► Twi...\n",
       "31    We're hanging with some of the dogs of the Myt...\n",
       "32    It's The Great Try Guys Bake-Off!Credits:  out...\n",
       "33    Nouvel ,épisode de Papy Grenier ! Ce mois-ci o...\n",
       "34    【欢迎订阅本频道】该剧讲述了急诊科主任医生何建一与海归医生江晓琪从一开始的互相审视，到互相理...\n",
       "35    Over the weekend, President Trump raised eyebr...\n",
       "36    The AH Crew sit down to talk about Jeremy’s ba...\n",
       "37    Thanks to Hila Klein for slammin with me this ...\n",
       "38    She needs your prayers.NEW MERCH! to Subscribe...\n",
       "39    Glad we're alive. Thanks for watching guys I l...\n",
       "40    Nouvelle vidéo tous les dimanches matins 10h. ...\n",
       "41    Canada Soccer's Women's National Team face riv...\n",
       "42          Soul Machines is making machines more human\n",
       "43    Former Director of National Intelligence James...\n",
       "44    HEY EVERYONE!!!! ⭐️ Today I'm revealing my ENT...\n",
       "45    Subscribe to the Real Time YouTube:  and his g...\n",
       "46    NELK - Before They Were Famous - Kyle Forgeard...\n",
       "47    And it stayed 4-1, the way it always should ha...\n",
       "48    Quand la voix ne colle pas au perso, que la tr...\n",
       "49    Presenting the song 'Ek Dil Ek Jaan' from Padm...\n",
       "Name: description, dtype: object"
      ]
     },
     "execution_count": 11,
     "metadata": {},
     "output_type": "execute_result"
    }
   ],
   "source": [
    "desc_2[:50]"
   ]
  },
  {
   "cell_type": "code",
   "execution_count": 12,
   "metadata": {},
   "outputs": [],
   "source": [
    "# only keep word characters and whitespaces\n",
    "desc_3 = desc_2.str.replace('[^\\w\\s]', '', flags=re.UNICODE)"
   ]
  },
  {
   "cell_type": "code",
   "execution_count": 13,
   "metadata": {},
   "outputs": [
    {
     "data": {
      "text/plain": [
       "0     Eminems new track Walk on Water ft Beyoncé is ...\n",
       "1     STill got a lot of packages Probably will last...\n",
       "2     WATCH MY PREVIOUS VIDEO  SUBSCRIBE   FOR WATCH...\n",
       "3     I know its been a while since we did this show...\n",
       "4        to Eds channel  Ed onFacebook    Website  J...\n",
       "5      Follow for News   Also follow DramaAlert on I...\n",
       "6     Vanoss Merch Shop  by Evan Fong  by Jack Wagne...\n",
       "7     SHANTELLS CHANNEL     this video in 4k on this...\n",
       "8     Join the movement Be a Maverick   ONE CAN STOP...\n",
       "9     Sheldon is roasting pastor of the churchyoung ...\n",
       "10    Watch the official music video of Bank Account...\n",
       "11    Subscribe Here  Hot Glue Gun Life Hacks For Cr...\n",
       "12    Thanks for watching the drama Help more people...\n",
       "13    Song  DaangSinger  Mankirt AulakhFacebook     ...\n",
       "14    CLICK TO SUBSCRIBE TO THE YOUTUBERS IN THIS EP...\n",
       "15    In the Outsmarted finale Mike trains with an M...\n",
       "16    3 Days left to cop NELK merch  us on Instagram...\n",
       "17    I think Sarah Millican was very excited for th...\n",
       "18    Miles gets stuck at work one night watching ov...\n",
       "19    Presenting Sharry Mann latest Punjabi Song  Cu...\n",
       "20    Ice Cream Pint Combination Lock   Ice Cream Sa...\n",
       "21    Today we find out if Link is a Nickelback amat...\n",
       "22    Smart Girl Shows How to Build Candy DispenserT...\n",
       "23     SUBSCRIBE     PREVIOUS VLOG    DOWNLOAD NOWSp...\n",
       "24    SUBSCRIBE THEN HIT THE  New Videos 12pm PT on ...\n",
       "25    Wow we filmed a video named a show  beat Ryan ...\n",
       "26    Destroying Unbreakable Glasses     MORE LINKS ...\n",
       "27    Si vous pensiez que tous les films pour enfant...\n",
       "28    Happy World Kindness Day Call that family memb...\n",
       "29    Full Song Out Now 15th NovemberHey Yolo Swag M...\n",
       "30    100000 LIKES FOR PART 2 SUBSCRIBE    Twitter  ...\n",
       "31    Were hanging with some of the dogs of the Myth...\n",
       "32    Its The Great Try Guys BakeOffCredits  out mor...\n",
       "33    Nouvel épisode de Papy Grenier  Ce moisci on p...\n",
       "34    欢迎订阅本频道该剧讲述了急诊科主任医生何建一与海归医生江晓琪从一开始的互相审视到互相理解渐生...\n",
       "35    Over the weekend President Trump raised eyebro...\n",
       "36    The AH Crew sit down to talk about Jeremys bad...\n",
       "37    Thanks to Hila Klein for slammin with me this ...\n",
       "38    She needs your prayersNEW MERCH to Subscribe a...\n",
       "39    Glad were alive Thanks for watching guys I lov...\n",
       "40    Nouvelle vidéo tous les dimanches matins 10h S...\n",
       "41    Canada Soccers Womens National Team face rival...\n",
       "42          Soul Machines is making machines more human\n",
       "43    Former Director of National Intelligence James...\n",
       "44    HEY EVERYONE  Today Im revealing my ENTIRE Hol...\n",
       "45    Subscribe to the Real Time YouTube  and his gu...\n",
       "46    NELK  Before They Were Famous  Kyle Forgeard  ...\n",
       "47    And it stayed 41 the way it always should have...\n",
       "48    Quand la voix ne colle pas au perso que la tra...\n",
       "49    Presenting the song Ek Dil Ek Jaan from Padmav...\n",
       "Name: description, dtype: object"
      ]
     },
     "execution_count": 13,
     "metadata": {},
     "output_type": "execute_result"
    }
   ],
   "source": [
    "desc_3[:50]"
   ]
  },
  {
   "cell_type": "code",
   "execution_count": 14,
   "metadata": {},
   "outputs": [],
   "source": [
    "# remove numbers\n",
    "desc_4 = desc_3.str.replace('\\d+', '')"
   ]
  },
  {
   "cell_type": "code",
   "execution_count": 15,
   "metadata": {},
   "outputs": [
    {
     "data": {
      "text/plain": [
       "0     Eminems new track Walk on Water ft Beyoncé is ...\n",
       "1     STill got a lot of packages Probably will last...\n",
       "2     WATCH MY PREVIOUS VIDEO  SUBSCRIBE   FOR WATCH...\n",
       "3     I know its been a while since we did this show...\n",
       "4        to Eds channel  Ed onFacebook    Website  J...\n",
       "5      Follow for News   Also follow DramaAlert on I...\n",
       "6     Vanoss Merch Shop  by Evan Fong  by Jack Wagne...\n",
       "7     SHANTELLS CHANNEL     this video in k on this ...\n",
       "8     Join the movement Be a Maverick   ONE CAN STOP...\n",
       "9     Sheldon is roasting pastor of the churchyoung ...\n",
       "10    Watch the official music video of Bank Account...\n",
       "11    Subscribe Here  Hot Glue Gun Life Hacks For Cr...\n",
       "12    Thanks for watching the drama Help more people...\n",
       "13    Song  DaangSinger  Mankirt AulakhFacebook     ...\n",
       "14    CLICK TO SUBSCRIBE TO THE YOUTUBERS IN THIS EP...\n",
       "15    In the Outsmarted finale Mike trains with an M...\n",
       "16     Days left to cop NELK merch  us on Instagramn...\n",
       "17    I think Sarah Millican was very excited for th...\n",
       "18    Miles gets stuck at work one night watching ov...\n",
       "19    Presenting Sharry Mann latest Punjabi Song  Cu...\n",
       "20    Ice Cream Pint Combination Lock   Ice Cream Sa...\n",
       "21    Today we find out if Link is a Nickelback amat...\n",
       "22    Smart Girl Shows How to Build Candy DispenserT...\n",
       "23     SUBSCRIBE     PREVIOUS VLOG    DOWNLOAD NOWSp...\n",
       "24    SUBSCRIBE THEN HIT THE  New Videos pm PT on RE...\n",
       "25    Wow we filmed a video named a show  beat Ryan ...\n",
       "26    Destroying Unbreakable Glasses     MORE LINKS ...\n",
       "27    Si vous pensiez que tous les films pour enfant...\n",
       "28    Happy World Kindness Day Call that family memb...\n",
       "29    Full Song Out Now th NovemberHey Yolo Swag Mus...\n",
       "30     LIKES FOR PART  SUBSCRIBE    Twitter  Instagr...\n",
       "31    Were hanging with some of the dogs of the Myth...\n",
       "32    Its The Great Try Guys BakeOffCredits  out mor...\n",
       "33    Nouvel épisode de Papy Grenier  Ce moisci on p...\n",
       "34    欢迎订阅本频道该剧讲述了急诊科主任医生何建一与海归医生江晓琪从一开始的互相审视到互相理解渐生...\n",
       "35    Over the weekend President Trump raised eyebro...\n",
       "36    The AH Crew sit down to talk about Jeremys bad...\n",
       "37    Thanks to Hila Klein for slammin with me this ...\n",
       "38    She needs your prayersNEW MERCH to Subscribe a...\n",
       "39    Glad were alive Thanks for watching guys I lov...\n",
       "40    Nouvelle vidéo tous les dimanches matins h Sou...\n",
       "41    Canada Soccers Womens National Team face rival...\n",
       "42          Soul Machines is making machines more human\n",
       "43    Former Director of National Intelligence James...\n",
       "44    HEY EVERYONE  Today Im revealing my ENTIRE Hol...\n",
       "45    Subscribe to the Real Time YouTube  and his gu...\n",
       "46    NELK  Before They Were Famous  Kyle Forgeard  ...\n",
       "47    And it stayed  the way it always should have b...\n",
       "48    Quand la voix ne colle pas au perso que la tra...\n",
       "49    Presenting the song Ek Dil Ek Jaan from Padmav...\n",
       "Name: description, dtype: object"
      ]
     },
     "execution_count": 15,
     "metadata": {},
     "output_type": "execute_result"
    }
   ],
   "source": [
    "desc_4[:50]"
   ]
  },
  {
   "cell_type": "code",
   "execution_count": 16,
   "metadata": {},
   "outputs": [],
   "source": [
    "# convert to lower case\n",
    "desc_5 = desc_4.str.lower()"
   ]
  },
  {
   "cell_type": "code",
   "execution_count": 17,
   "metadata": {},
   "outputs": [],
   "source": [
    "# remove leading and ending spaces\n",
    "desc_6 = desc_5.str.strip()"
   ]
  },
  {
   "cell_type": "code",
   "execution_count": 18,
   "metadata": {},
   "outputs": [
    {
     "data": {
      "text/plain": [
       "0     eminems new track walk on water ft beyoncé is ...\n",
       "1     still got a lot of packages probably will last...\n",
       "2     watch my previous video  subscribe   for watch...\n",
       "3     i know its been a while since we did this show...\n",
       "4     to eds channel  ed onfacebook    website  jaso...\n",
       "5     follow for news   also follow dramaalert on in...\n",
       "6     vanoss merch shop  by evan fong  by jack wagne...\n",
       "7     shantells channel     this video in k on this ...\n",
       "8     join the movement be a maverick   one can stop...\n",
       "9     sheldon is roasting pastor of the churchyoung ...\n",
       "10    watch the official music video of bank account...\n",
       "11    subscribe here  hot glue gun life hacks for cr...\n",
       "12    thanks for watching the drama help more people...\n",
       "13    song  daangsinger  mankirt aulakhfacebook     ...\n",
       "14    click to subscribe to the youtubers in this ep...\n",
       "15    in the outsmarted finale mike trains with an m...\n",
       "16    days left to cop nelk merch  us on instagramne...\n",
       "17    i think sarah millican was very excited for th...\n",
       "18    miles gets stuck at work one night watching ov...\n",
       "19    presenting sharry mann latest punjabi song  cu...\n",
       "20    ice cream pint combination lock   ice cream sa...\n",
       "21    today we find out if link is a nickelback amat...\n",
       "22    smart girl shows how to build candy dispensert...\n",
       "23    subscribe     previous vlog    download nowspo...\n",
       "24    subscribe then hit the  new videos pm pt on re...\n",
       "25    wow we filmed a video named a show  beat ryan ...\n",
       "26    destroying unbreakable glasses     more links ...\n",
       "27    si vous pensiez que tous les films pour enfant...\n",
       "28    happy world kindness day call that family memb...\n",
       "29    full song out now th novemberhey yolo swag mus...\n",
       "30    likes for part  subscribe    twitter  instagra...\n",
       "31    were hanging with some of the dogs of the myth...\n",
       "32    its the great try guys bakeoffcredits  out mor...\n",
       "33    nouvel épisode de papy grenier  ce moisci on p...\n",
       "34    欢迎订阅本频道该剧讲述了急诊科主任医生何建一与海归医生江晓琪从一开始的互相审视到互相理解渐生...\n",
       "35    over the weekend president trump raised eyebro...\n",
       "36    the ah crew sit down to talk about jeremys bad...\n",
       "37    thanks to hila klein for slammin with me this ...\n",
       "38    she needs your prayersnew merch to subscribe a...\n",
       "39    glad were alive thanks for watching guys i lov...\n",
       "40    nouvelle vidéo tous les dimanches matins h sou...\n",
       "41    canada soccers womens national team face rival...\n",
       "42          soul machines is making machines more human\n",
       "43    former director of national intelligence james...\n",
       "44    hey everyone  today im revealing my entire hol...\n",
       "45    subscribe to the real time youtube  and his gu...\n",
       "46    nelk  before they were famous  kyle forgeard  ...\n",
       "47    and it stayed  the way it always should have b...\n",
       "48    quand la voix ne colle pas au perso que la tra...\n",
       "49    presenting the song ek dil ek jaan from padmav...\n",
       "Name: description, dtype: object"
      ]
     },
     "execution_count": 18,
     "metadata": {},
     "output_type": "execute_result"
    }
   ],
   "source": [
    "desc_6[:50]"
   ]
  },
  {
   "cell_type": "code",
   "execution_count": 19,
   "metadata": {},
   "outputs": [],
   "source": [
    "# tokenization\n",
    "tokenizer = RegexpTokenizer(r'\\w+')\n",
    "desc_token = desc_6.apply(lambda x: tokenizer.tokenize(x))"
   ]
  },
  {
   "cell_type": "code",
   "execution_count": 20,
   "metadata": {},
   "outputs": [
    {
     "data": {
      "text/plain": [
       "0         [eminems, new, track, walk, on, water, ft, bey...\n",
       "1         [still, got, a, lot, of, packages, probably, w...\n",
       "2         [watch, my, previous, video, subscribe, for, w...\n",
       "3         [i, know, its, been, a, while, since, we, did,...\n",
       "4         [to, eds, channel, ed, onfacebook, website, ja...\n",
       "                                ...                        \n",
       "120741    [the, cat, who, caught, the, laser, aarons, an...\n",
       "120742                                                   []\n",
       "120743    [i, had, so, much, fun, transforming, safiyas,...\n",
       "120744    [how, black, panther, should, have, endedwatch...\n",
       "120745    [call, of, duty, black, ops, multiplayer, rais...\n",
       "Name: description, Length: 120746, dtype: object"
      ]
     },
     "execution_count": 20,
     "metadata": {},
     "output_type": "execute_result"
    }
   ],
   "source": [
    "desc_token"
   ]
  },
  {
   "cell_type": "code",
   "execution_count": 21,
   "metadata": {},
   "outputs": [],
   "source": [
    "# stemming\n",
    "stemmer = PorterStemmer()\n",
    "desc_stem = desc_token.apply(lambda x: [stemmer.stem(word) for word in x])"
   ]
  },
  {
   "cell_type": "code",
   "execution_count": 22,
   "metadata": {},
   "outputs": [
    {
     "data": {
      "text/plain": [
       "0         [eminem, new, track, walk, on, water, ft, beyo...\n",
       "1         [still, got, a, lot, of, packag, probabl, will...\n",
       "2         [watch, my, previou, video, subscrib, for, wat...\n",
       "3         [i, know, it, been, a, while, sinc, we, did, t...\n",
       "4         [to, ed, channel, ed, onfacebook, websit, jaso...\n",
       "                                ...                        \n",
       "120741     [the, cat, who, caught, the, laser, aaron, anim]\n",
       "120742                                                   []\n",
       "120743    [i, had, so, much, fun, transform, safiya, hai...\n",
       "120744    [how, black, panther, should, have, endedwatch...\n",
       "120745    [call, of, duti, black, op, multiplay, rais, t...\n",
       "Name: description, Length: 120746, dtype: object"
      ]
     },
     "execution_count": 22,
     "metadata": {},
     "output_type": "execute_result"
    }
   ],
   "source": [
    "desc_stem"
   ]
  },
  {
   "cell_type": "code",
   "execution_count": 23,
   "metadata": {},
   "outputs": [],
   "source": [
    "# lemmatization\n",
    "lemmatizer = WordNetLemmatizer()\n",
    "desc_lemma = desc_stem.apply(lambda x: [lemmatizer.lemmatize(word) for word in x])"
   ]
  },
  {
   "cell_type": "code",
   "execution_count": 24,
   "metadata": {},
   "outputs": [
    {
     "data": {
      "text/plain": [
       "0         [eminem, new, track, walk, on, water, ft, beyo...\n",
       "1         [still, got, a, lot, of, packag, probabl, will...\n",
       "2         [watch, my, previou, video, subscrib, for, wat...\n",
       "3         [i, know, it, been, a, while, sinc, we, did, t...\n",
       "4         [to, ed, channel, ed, onfacebook, websit, jaso...\n",
       "                                ...                        \n",
       "120741     [the, cat, who, caught, the, laser, aaron, anim]\n",
       "120742                                                   []\n",
       "120743    [i, had, so, much, fun, transform, safiya, hai...\n",
       "120744    [how, black, panther, should, have, endedwatch...\n",
       "120745    [call, of, duti, black, op, multiplay, rais, t...\n",
       "Name: description, Length: 120746, dtype: object"
      ]
     },
     "execution_count": 24,
     "metadata": {},
     "output_type": "execute_result"
    }
   ],
   "source": [
    "desc_lemma"
   ]
  },
  {
   "cell_type": "code",
   "execution_count": 24,
   "metadata": {},
   "outputs": [],
   "source": [
    "desc_6 = pd.DataFrame(desc_6)\n",
    "desc_token = pd.DataFrame(desc_token)\n",
    "desc_stem = pd.DataFrame(desc_stem)\n",
    "desc_lemma = pd.DataFrame(desc_lemma)"
   ]
  },
  {
   "cell_type": "code",
   "execution_count": 25,
   "metadata": {},
   "outputs": [],
   "source": [
    "desc_6.to_csv('desc_clean.csv', index = False)"
   ]
  },
  {
   "cell_type": "code",
   "execution_count": 26,
   "metadata": {},
   "outputs": [],
   "source": [
    "desc_token.to_csv('desc_token.csv', index = False)"
   ]
  },
  {
   "cell_type": "code",
   "execution_count": 27,
   "metadata": {},
   "outputs": [],
   "source": [
    "desc_stem.to_csv('desc_stem.csv', index = False)"
   ]
  },
  {
   "cell_type": "code",
   "execution_count": 28,
   "metadata": {},
   "outputs": [],
   "source": [
    "desc_lemma.to_csv('desc_lemma.csv', index = False)"
   ]
  },
  {
   "cell_type": "code",
   "execution_count": null,
   "metadata": {},
   "outputs": [],
   "source": []
  }
 ],
 "metadata": {
  "kernelspec": {
   "display_name": "Python 3",
   "language": "python",
   "name": "python3"
  },
  "language_info": {
   "codemirror_mode": {
    "name": "ipython",
    "version": 3
   },
   "file_extension": ".py",
   "mimetype": "text/x-python",
   "name": "python",
   "nbconvert_exporter": "python",
   "pygments_lexer": "ipython3",
   "version": "3.7.4"
  }
 },
 "nbformat": 4,
 "nbformat_minor": 2
}
